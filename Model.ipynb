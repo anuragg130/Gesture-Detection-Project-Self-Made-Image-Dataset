{
 "cells": [
  {
   "cell_type": "code",
   "execution_count": 1,
   "outputs": [
    {
     "name": "stdout",
     "output_type": "stream",
     "text": [
      "Requirement already satisfied: mediapipe in c:\\users\\anurag\\desktop\\mainproject\\venv\\lib\\site-packages (0.9.0)\n",
      "Requirement already satisfied: attrs>=19.1.0 in c:\\users\\anurag\\desktop\\mainproject\\venv\\lib\\site-packages (from mediapipe) (22.1.0)\n",
      "Requirement already satisfied: numpy in c:\\users\\anurag\\desktop\\mainproject\\venv\\lib\\site-packages (from mediapipe) (1.23.5)\n",
      "Requirement already satisfied: matplotlib in c:\\users\\anurag\\desktop\\mainproject\\venv\\lib\\site-packages (from mediapipe) (3.6.2)\n",
      "Requirement already satisfied: opencv-contrib-python in c:\\users\\anurag\\desktop\\mainproject\\venv\\lib\\site-packages (from mediapipe) (4.6.0.66)\n",
      "Requirement already satisfied: protobuf<4,>=3.11 in c:\\users\\anurag\\desktop\\mainproject\\venv\\lib\\site-packages (from mediapipe) (3.19.6)\n",
      "Requirement already satisfied: flatbuffers>=2.0 in c:\\users\\anurag\\desktop\\mainproject\\venv\\lib\\site-packages (from mediapipe) (22.11.23)\n",
      "Requirement already satisfied: absl-py in c:\\users\\anurag\\desktop\\mainproject\\venv\\lib\\site-packages (from mediapipe) (1.3.0)\n",
      "Requirement already satisfied: pyparsing>=2.2.1 in c:\\users\\anurag\\desktop\\mainproject\\venv\\lib\\site-packages (from matplotlib->mediapipe) (3.0.9)\n",
      "Requirement already satisfied: pillow>=6.2.0 in c:\\users\\anurag\\desktop\\mainproject\\venv\\lib\\site-packages (from matplotlib->mediapipe) (9.3.0)\n",
      "Requirement already satisfied: contourpy>=1.0.1 in c:\\users\\anurag\\desktop\\mainproject\\venv\\lib\\site-packages (from matplotlib->mediapipe) (1.0.6)\n",
      "Requirement already satisfied: kiwisolver>=1.0.1 in c:\\users\\anurag\\desktop\\mainproject\\venv\\lib\\site-packages (from matplotlib->mediapipe) (1.4.4)\n",
      "Requirement already satisfied: fonttools>=4.22.0 in c:\\users\\anurag\\desktop\\mainproject\\venv\\lib\\site-packages (from matplotlib->mediapipe) (4.38.0)\n",
      "Requirement already satisfied: packaging>=20.0 in c:\\users\\anurag\\desktop\\mainproject\\venv\\lib\\site-packages (from matplotlib->mediapipe) (21.3)\n",
      "Requirement already satisfied: python-dateutil>=2.7 in c:\\users\\anurag\\desktop\\mainproject\\venv\\lib\\site-packages (from matplotlib->mediapipe) (2.8.2)\n",
      "Requirement already satisfied: cycler>=0.10 in c:\\users\\anurag\\desktop\\mainproject\\venv\\lib\\site-packages (from matplotlib->mediapipe) (0.11.0)\n",
      "Requirement already satisfied: six>=1.5 in c:\\users\\anurag\\desktop\\mainproject\\venv\\lib\\site-packages (from python-dateutil>=2.7->matplotlib->mediapipe) (1.16.0)\n"
     ]
    },
    {
     "name": "stderr",
     "output_type": "stream",
     "text": [
      "WARNING: You are using pip version 21.3.1; however, version 22.3.1 is available.\n",
      "You should consider upgrading via the 'C:\\Users\\Anurag\\Desktop\\MainProject\\venv\\Scripts\\python.exe -m pip install --upgrade pip' command.\n"
     ]
    }
   ],
   "source": [
    "! pip install mediapipe"
   ],
   "metadata": {
    "collapsed": false,
    "pycharm": {
     "name": "#%%\n"
    }
   }
  },
  {
   "cell_type": "code",
   "execution_count": 2,
   "outputs": [],
   "source": [
    "import mediapipe as mp\n",
    "import cv2\n",
    "import numpy as np\n",
    "import uuid\n",
    "import os"
   ],
   "metadata": {
    "collapsed": false,
    "pycharm": {
     "name": "#%%\n"
    }
   }
  },
  {
   "cell_type": "code",
   "execution_count": 3,
   "outputs": [],
   "source": [
    "mp_drawing = mp.solutions.drawing_utils\n",
    "mp_hands = mp.solutions.hands"
   ],
   "metadata": {
    "collapsed": false,
    "pycharm": {
     "name": "#%%\n"
    }
   }
  },
  {
   "cell_type": "code",
   "execution_count": 4,
   "outputs": [
    {
     "name": "stdout",
     "output_type": "stream",
     "text": [
      "<class 'mediapipe.python.solution_base.SolutionOutputs'>\n",
      "<class 'mediapipe.python.solution_base.SolutionOutputs'>\n",
      "<class 'mediapipe.python.solution_base.SolutionOutputs'>\n",
      "<class 'mediapipe.python.solution_base.SolutionOutputs'>\n",
      "<class 'mediapipe.python.solution_base.SolutionOutputs'>\n",
      "<class 'mediapipe.python.solution_base.SolutionOutputs'>\n",
      "<class 'mediapipe.python.solution_base.SolutionOutputs'>\n",
      "<class 'mediapipe.python.solution_base.SolutionOutputs'>\n",
      "<class 'mediapipe.python.solution_base.SolutionOutputs'>\n",
      "<class 'mediapipe.python.solution_base.SolutionOutputs'>\n",
      "<class 'mediapipe.python.solution_base.SolutionOutputs'>\n",
      "<class 'mediapipe.python.solution_base.SolutionOutputs'>\n",
      "<class 'mediapipe.python.solution_base.SolutionOutputs'>\n",
      "<class 'mediapipe.python.solution_base.SolutionOutputs'>\n",
      "<class 'mediapipe.python.solution_base.SolutionOutputs'>\n",
      "<class 'mediapipe.python.solution_base.SolutionOutputs'>\n",
      "<class 'mediapipe.python.solution_base.SolutionOutputs'>\n",
      "<class 'mediapipe.python.solution_base.SolutionOutputs'>\n",
      "<class 'mediapipe.python.solution_base.SolutionOutputs'>\n",
      "<class 'mediapipe.python.solution_base.SolutionOutputs'>\n",
      "<class 'mediapipe.python.solution_base.SolutionOutputs'>\n",
      "<class 'mediapipe.python.solution_base.SolutionOutputs'>\n",
      "<class 'mediapipe.python.solution_base.SolutionOutputs'>\n",
      "<class 'mediapipe.python.solution_base.SolutionOutputs'>\n",
      "<class 'mediapipe.python.solution_base.SolutionOutputs'>\n",
      "<class 'mediapipe.python.solution_base.SolutionOutputs'>\n",
      "<class 'mediapipe.python.solution_base.SolutionOutputs'>\n",
      "<class 'mediapipe.python.solution_base.SolutionOutputs'>\n",
      "<class 'mediapipe.python.solution_base.SolutionOutputs'>\n",
      "<class 'mediapipe.python.solution_base.SolutionOutputs'>\n",
      "<class 'mediapipe.python.solution_base.SolutionOutputs'>\n",
      "<class 'mediapipe.python.solution_base.SolutionOutputs'>\n",
      "<class 'mediapipe.python.solution_base.SolutionOutputs'>\n",
      "<class 'mediapipe.python.solution_base.SolutionOutputs'>\n",
      "<class 'mediapipe.python.solution_base.SolutionOutputs'>\n",
      "<class 'mediapipe.python.solution_base.SolutionOutputs'>\n",
      "<class 'mediapipe.python.solution_base.SolutionOutputs'>\n",
      "<class 'mediapipe.python.solution_base.SolutionOutputs'>\n",
      "<class 'mediapipe.python.solution_base.SolutionOutputs'>\n",
      "<class 'mediapipe.python.solution_base.SolutionOutputs'>\n",
      "<class 'mediapipe.python.solution_base.SolutionOutputs'>\n",
      "<class 'mediapipe.python.solution_base.SolutionOutputs'>\n",
      "<class 'mediapipe.python.solution_base.SolutionOutputs'>\n",
      "<class 'mediapipe.python.solution_base.SolutionOutputs'>\n",
      "<class 'mediapipe.python.solution_base.SolutionOutputs'>\n",
      "<class 'mediapipe.python.solution_base.SolutionOutputs'>\n",
      "<class 'mediapipe.python.solution_base.SolutionOutputs'>\n",
      "<class 'mediapipe.python.solution_base.SolutionOutputs'>\n",
      "<class 'mediapipe.python.solution_base.SolutionOutputs'>\n",
      "<class 'mediapipe.python.solution_base.SolutionOutputs'>\n",
      "<class 'mediapipe.python.solution_base.SolutionOutputs'>\n",
      "<class 'mediapipe.python.solution_base.SolutionOutputs'>\n",
      "<class 'mediapipe.python.solution_base.SolutionOutputs'>\n",
      "<class 'mediapipe.python.solution_base.SolutionOutputs'>\n",
      "<class 'mediapipe.python.solution_base.SolutionOutputs'>\n",
      "<class 'mediapipe.python.solution_base.SolutionOutputs'>\n",
      "<class 'mediapipe.python.solution_base.SolutionOutputs'>\n",
      "<class 'mediapipe.python.solution_base.SolutionOutputs'>\n",
      "<class 'mediapipe.python.solution_base.SolutionOutputs'>\n",
      "<class 'mediapipe.python.solution_base.SolutionOutputs'>\n",
      "<class 'mediapipe.python.solution_base.SolutionOutputs'>\n",
      "<class 'mediapipe.python.solution_base.SolutionOutputs'>\n",
      "<class 'mediapipe.python.solution_base.SolutionOutputs'>\n",
      "<class 'mediapipe.python.solution_base.SolutionOutputs'>\n",
      "<class 'mediapipe.python.solution_base.SolutionOutputs'>\n",
      "<class 'mediapipe.python.solution_base.SolutionOutputs'>\n",
      "<class 'mediapipe.python.solution_base.SolutionOutputs'>\n",
      "<class 'mediapipe.python.solution_base.SolutionOutputs'>\n",
      "<class 'mediapipe.python.solution_base.SolutionOutputs'>\n",
      "<class 'mediapipe.python.solution_base.SolutionOutputs'>\n",
      "<class 'mediapipe.python.solution_base.SolutionOutputs'>\n",
      "<class 'mediapipe.python.solution_base.SolutionOutputs'>\n",
      "<class 'mediapipe.python.solution_base.SolutionOutputs'>\n",
      "<class 'mediapipe.python.solution_base.SolutionOutputs'>\n",
      "<class 'mediapipe.python.solution_base.SolutionOutputs'>\n",
      "<class 'mediapipe.python.solution_base.SolutionOutputs'>\n",
      "<class 'mediapipe.python.solution_base.SolutionOutputs'>\n",
      "<class 'mediapipe.python.solution_base.SolutionOutputs'>\n",
      "<class 'mediapipe.python.solution_base.SolutionOutputs'>\n",
      "<class 'mediapipe.python.solution_base.SolutionOutputs'>\n",
      "<class 'mediapipe.python.solution_base.SolutionOutputs'>\n",
      "<class 'mediapipe.python.solution_base.SolutionOutputs'>\n",
      "<class 'mediapipe.python.solution_base.SolutionOutputs'>\n",
      "<class 'mediapipe.python.solution_base.SolutionOutputs'>\n",
      "<class 'mediapipe.python.solution_base.SolutionOutputs'>\n",
      "<class 'mediapipe.python.solution_base.SolutionOutputs'>\n",
      "<class 'mediapipe.python.solution_base.SolutionOutputs'>\n",
      "<class 'mediapipe.python.solution_base.SolutionOutputs'>\n",
      "<class 'mediapipe.python.solution_base.SolutionOutputs'>\n",
      "<class 'mediapipe.python.solution_base.SolutionOutputs'>\n",
      "<class 'mediapipe.python.solution_base.SolutionOutputs'>\n",
      "<class 'mediapipe.python.solution_base.SolutionOutputs'>\n",
      "<class 'mediapipe.python.solution_base.SolutionOutputs'>\n",
      "<class 'mediapipe.python.solution_base.SolutionOutputs'>\n",
      "<class 'mediapipe.python.solution_base.SolutionOutputs'>\n",
      "<class 'mediapipe.python.solution_base.SolutionOutputs'>\n",
      "<class 'mediapipe.python.solution_base.SolutionOutputs'>\n",
      "<class 'mediapipe.python.solution_base.SolutionOutputs'>\n",
      "<class 'mediapipe.python.solution_base.SolutionOutputs'>\n",
      "<class 'mediapipe.python.solution_base.SolutionOutputs'>\n",
      "<class 'mediapipe.python.solution_base.SolutionOutputs'>\n",
      "<class 'mediapipe.python.solution_base.SolutionOutputs'>\n",
      "<class 'mediapipe.python.solution_base.SolutionOutputs'>\n",
      "<class 'mediapipe.python.solution_base.SolutionOutputs'>\n",
      "<class 'mediapipe.python.solution_base.SolutionOutputs'>\n",
      "<class 'mediapipe.python.solution_base.SolutionOutputs'>\n",
      "<class 'mediapipe.python.solution_base.SolutionOutputs'>\n",
      "<class 'mediapipe.python.solution_base.SolutionOutputs'>\n",
      "<class 'mediapipe.python.solution_base.SolutionOutputs'>\n",
      "<class 'mediapipe.python.solution_base.SolutionOutputs'>\n",
      "<class 'mediapipe.python.solution_base.SolutionOutputs'>\n",
      "<class 'mediapipe.python.solution_base.SolutionOutputs'>\n",
      "<class 'mediapipe.python.solution_base.SolutionOutputs'>\n",
      "<class 'mediapipe.python.solution_base.SolutionOutputs'>\n",
      "<class 'mediapipe.python.solution_base.SolutionOutputs'>\n",
      "<class 'mediapipe.python.solution_base.SolutionOutputs'>\n",
      "<class 'mediapipe.python.solution_base.SolutionOutputs'>\n",
      "<class 'mediapipe.python.solution_base.SolutionOutputs'>\n",
      "<class 'mediapipe.python.solution_base.SolutionOutputs'>\n",
      "<class 'mediapipe.python.solution_base.SolutionOutputs'>\n",
      "<class 'mediapipe.python.solution_base.SolutionOutputs'>\n",
      "<class 'mediapipe.python.solution_base.SolutionOutputs'>\n",
      "<class 'mediapipe.python.solution_base.SolutionOutputs'>\n",
      "<class 'mediapipe.python.solution_base.SolutionOutputs'>\n",
      "<class 'mediapipe.python.solution_base.SolutionOutputs'>\n",
      "<class 'mediapipe.python.solution_base.SolutionOutputs'>\n",
      "<class 'mediapipe.python.solution_base.SolutionOutputs'>\n",
      "<class 'mediapipe.python.solution_base.SolutionOutputs'>\n",
      "<class 'mediapipe.python.solution_base.SolutionOutputs'>\n",
      "<class 'mediapipe.python.solution_base.SolutionOutputs'>\n",
      "<class 'mediapipe.python.solution_base.SolutionOutputs'>\n",
      "<class 'mediapipe.python.solution_base.SolutionOutputs'>\n",
      "<class 'mediapipe.python.solution_base.SolutionOutputs'>\n",
      "<class 'mediapipe.python.solution_base.SolutionOutputs'>\n",
      "<class 'mediapipe.python.solution_base.SolutionOutputs'>\n",
      "<class 'mediapipe.python.solution_base.SolutionOutputs'>\n",
      "<class 'mediapipe.python.solution_base.SolutionOutputs'>\n",
      "<class 'mediapipe.python.solution_base.SolutionOutputs'>\n",
      "<class 'mediapipe.python.solution_base.SolutionOutputs'>\n",
      "<class 'mediapipe.python.solution_base.SolutionOutputs'>\n",
      "<class 'mediapipe.python.solution_base.SolutionOutputs'>\n",
      "<class 'mediapipe.python.solution_base.SolutionOutputs'>\n",
      "<class 'mediapipe.python.solution_base.SolutionOutputs'>\n",
      "<class 'mediapipe.python.solution_base.SolutionOutputs'>\n",
      "<class 'mediapipe.python.solution_base.SolutionOutputs'>\n",
      "<class 'mediapipe.python.solution_base.SolutionOutputs'>\n",
      "<class 'mediapipe.python.solution_base.SolutionOutputs'>\n",
      "<class 'mediapipe.python.solution_base.SolutionOutputs'>\n",
      "<class 'mediapipe.python.solution_base.SolutionOutputs'>\n",
      "<class 'mediapipe.python.solution_base.SolutionOutputs'>\n",
      "<class 'mediapipe.python.solution_base.SolutionOutputs'>\n",
      "<class 'mediapipe.python.solution_base.SolutionOutputs'>\n",
      "<class 'mediapipe.python.solution_base.SolutionOutputs'>\n",
      "<class 'mediapipe.python.solution_base.SolutionOutputs'>\n",
      "<class 'mediapipe.python.solution_base.SolutionOutputs'>\n",
      "<class 'mediapipe.python.solution_base.SolutionOutputs'>\n",
      "<class 'mediapipe.python.solution_base.SolutionOutputs'>\n",
      "<class 'mediapipe.python.solution_base.SolutionOutputs'>\n",
      "<class 'mediapipe.python.solution_base.SolutionOutputs'>\n",
      "<class 'mediapipe.python.solution_base.SolutionOutputs'>\n",
      "<class 'mediapipe.python.solution_base.SolutionOutputs'>\n",
      "<class 'mediapipe.python.solution_base.SolutionOutputs'>\n",
      "<class 'mediapipe.python.solution_base.SolutionOutputs'>\n",
      "<class 'mediapipe.python.solution_base.SolutionOutputs'>\n",
      "<class 'mediapipe.python.solution_base.SolutionOutputs'>\n",
      "<class 'mediapipe.python.solution_base.SolutionOutputs'>\n",
      "<class 'mediapipe.python.solution_base.SolutionOutputs'>\n",
      "<class 'mediapipe.python.solution_base.SolutionOutputs'>\n",
      "<class 'mediapipe.python.solution_base.SolutionOutputs'>\n",
      "<class 'mediapipe.python.solution_base.SolutionOutputs'>\n",
      "<class 'mediapipe.python.solution_base.SolutionOutputs'>\n",
      "<class 'mediapipe.python.solution_base.SolutionOutputs'>\n",
      "<class 'mediapipe.python.solution_base.SolutionOutputs'>\n",
      "<class 'mediapipe.python.solution_base.SolutionOutputs'>\n",
      "<class 'mediapipe.python.solution_base.SolutionOutputs'>\n",
      "<class 'mediapipe.python.solution_base.SolutionOutputs'>\n",
      "<class 'mediapipe.python.solution_base.SolutionOutputs'>\n",
      "<class 'mediapipe.python.solution_base.SolutionOutputs'>\n",
      "<class 'mediapipe.python.solution_base.SolutionOutputs'>\n"
     ]
    }
   ],
   "source": [
    "cap = cv2.VideoCapture(0)\n",
    "\n",
    "with mp_hands.Hands(min_detection_confidence=0.8, min_tracking_confidence=0.5) as hands:\n",
    "    while cap.isOpened():\n",
    "        ret, frame = cap.read()\n",
    "\n",
    "        # BGR 2 RGB\n",
    "        image = cv2.cvtColor(frame, cv2.COLOR_BGR2RGB)\n",
    "\n",
    "        # Flip on horizontal\n",
    "        image = cv2.flip(image, 1)\n",
    "\n",
    "        # Set flag\n",
    "        image.flags.writeable = False\n",
    "\n",
    "        # Detections\n",
    "        results = hands.process(image)\n",
    "\n",
    "        # Set flag to true\n",
    "        image.flags.writeable = True\n",
    "\n",
    "        # RGB 2 BGR\n",
    "        image = cv2.cvtColor(image, cv2.COLOR_RGB2BGR)\n",
    "\n",
    "        # Detections\n",
    "        print(results)\n",
    "\n",
    "        # Rendering results\n",
    "        if results.multi_hand_landmarks:\n",
    "            for num, hand in enumerate(results.multi_hand_landmarks):\n",
    "                mp_drawing.draw_landmarks(image, hand, mp_hands.HAND_CONNECTIONS,\n",
    "                                        mp_drawing.DrawingSpec(color=(121, 22, 76), thickness=2, circle_radius=4),\n",
    "                                        mp_drawing.DrawingSpec(color=(250, 44, 250), thickness=2, circle_radius=2),\n",
    "                                         )\n",
    "\n",
    "\n",
    "        cv2.imshow('Hand Tracking', image)\n",
    "\n",
    "        if cv2.waitKey(10) & 0xFF == ord('q'):\n",
    "            break\n",
    "\n",
    "cap.release()\n",
    "cv2.destroyAllWindows()"
   ],
   "metadata": {
    "collapsed": false,
    "pycharm": {
     "name": "#%%\n"
    }
   }
  },
  {
   "cell_type": "code",
   "execution_count": 5,
   "outputs": [],
   "source": [
    "os.mkdir('Output Images')"
   ],
   "metadata": {
    "collapsed": false,
    "pycharm": {
     "name": "#%%\n"
    }
   }
  },
  {
   "cell_type": "code",
   "execution_count": 6,
   "outputs": [
    {
     "name": "stdout",
     "output_type": "stream",
     "text": [
      "<class 'mediapipe.python.solution_base.SolutionOutputs'>\n",
      "<class 'mediapipe.python.solution_base.SolutionOutputs'>\n",
      "<class 'mediapipe.python.solution_base.SolutionOutputs'>\n",
      "<class 'mediapipe.python.solution_base.SolutionOutputs'>\n",
      "<class 'mediapipe.python.solution_base.SolutionOutputs'>\n",
      "<class 'mediapipe.python.solution_base.SolutionOutputs'>\n",
      "<class 'mediapipe.python.solution_base.SolutionOutputs'>\n",
      "<class 'mediapipe.python.solution_base.SolutionOutputs'>\n",
      "<class 'mediapipe.python.solution_base.SolutionOutputs'>\n",
      "<class 'mediapipe.python.solution_base.SolutionOutputs'>\n",
      "<class 'mediapipe.python.solution_base.SolutionOutputs'>\n",
      "<class 'mediapipe.python.solution_base.SolutionOutputs'>\n",
      "<class 'mediapipe.python.solution_base.SolutionOutputs'>\n",
      "<class 'mediapipe.python.solution_base.SolutionOutputs'>\n",
      "<class 'mediapipe.python.solution_base.SolutionOutputs'>\n",
      "<class 'mediapipe.python.solution_base.SolutionOutputs'>\n",
      "<class 'mediapipe.python.solution_base.SolutionOutputs'>\n",
      "<class 'mediapipe.python.solution_base.SolutionOutputs'>\n",
      "<class 'mediapipe.python.solution_base.SolutionOutputs'>\n",
      "<class 'mediapipe.python.solution_base.SolutionOutputs'>\n",
      "<class 'mediapipe.python.solution_base.SolutionOutputs'>\n",
      "<class 'mediapipe.python.solution_base.SolutionOutputs'>\n",
      "<class 'mediapipe.python.solution_base.SolutionOutputs'>\n",
      "<class 'mediapipe.python.solution_base.SolutionOutputs'>\n",
      "<class 'mediapipe.python.solution_base.SolutionOutputs'>\n",
      "<class 'mediapipe.python.solution_base.SolutionOutputs'>\n",
      "<class 'mediapipe.python.solution_base.SolutionOutputs'>\n",
      "<class 'mediapipe.python.solution_base.SolutionOutputs'>\n",
      "<class 'mediapipe.python.solution_base.SolutionOutputs'>\n"
     ]
    }
   ],
   "source": [
    "cap = cv2.VideoCapture(0)\n",
    "\n",
    "with mp_hands.Hands(min_detection_confidence=0.8, min_tracking_confidence=0.5) as hands:\n",
    "    while cap.isOpened():\n",
    "        ret, frame = cap.read()\n",
    "\n",
    "        # BGR 2 RGB\n",
    "        image = cv2.cvtColor(frame, cv2.COLOR_BGR2RGB)\n",
    "\n",
    "        # Flip on horizontal\n",
    "        image = cv2.flip(image, 1)\n",
    "\n",
    "        # Set flag\n",
    "        image.flags.writeable = False\n",
    "\n",
    "        # Detections\n",
    "        results = hands.process(image)\n",
    "\n",
    "        # Set flag to true\n",
    "        image.flags.writeable = True\n",
    "\n",
    "        # RGB 2 BGR\n",
    "        image = cv2.cvtColor(image, cv2.COLOR_RGB2BGR)\n",
    "\n",
    "        # Detections\n",
    "        print(results)\n",
    "\n",
    "        # Rendering results\n",
    "        if results.multi_hand_landmarks:\n",
    "            for num, hand in enumerate(results.multi_hand_landmarks):\n",
    "                mp_drawing.draw_landmarks(image, hand, mp_hands.HAND_CONNECTIONS,\n",
    "                                        mp_drawing.DrawingSpec(color=(121, 22, 76), thickness=2, circle_radius=4),\n",
    "                                        mp_drawing.DrawingSpec(color=(250, 44, 250), thickness=2, circle_radius=2),\n",
    "                                         )\n",
    "\n",
    "        # Save our image\n",
    "        cv2.imwrite(os.path.join('Output Images', '{}.jpg'.format(uuid.uuid1())), image)\n",
    "        cv2.imshow('Hand Tracking', image)\n",
    "\n",
    "        if cv2.waitKey(10) & 0xFF == ord('q'):\n",
    "            break\n",
    "\n",
    "cap.release()\n",
    "cv2.destroyAllWindows()"
   ],
   "metadata": {
    "collapsed": false,
    "pycharm": {
     "name": "#%%\n"
    }
   }
  },
  {
   "cell_type": "code",
   "execution_count": 7,
   "metadata": {
    "collapsed": true,
    "pycharm": {
     "name": "#%%\n"
    }
   },
   "outputs": [],
   "source": [
    "import numpy as np\n",
    "import pandas as pd\n",
    "from pathlib import Path\n",
    "import os.path\n",
    "from sklearn.model_selection import train_test_split\n",
    "import tensorflow as tf\n",
    "import os"
   ]
  },
  {
   "cell_type": "code",
   "execution_count": 8,
   "outputs": [],
   "source": [
    "image_dir = Path(r'C:\\Users\\Anurag\\Desktop\\MainProject\\Dataset')"
   ],
   "metadata": {
    "collapsed": false,
    "pycharm": {
     "name": "#%%\n"
    }
   }
  },
  {
   "cell_type": "code",
   "execution_count": 9,
   "outputs": [
    {
     "data": {
      "text/plain": "[WindowsPath('C:/Users/Anurag/Desktop/MainProject/Dataset/Both Hand Raised Up/ae408297-759d-11ed-94a1-841b77913bf0.jpg'),\n WindowsPath('C:/Users/Anurag/Desktop/MainProject/Dataset/Both Hand Raised Up/ae576ab6-759d-11ed-a8d8-841b77913bf0.jpg'),\n WindowsPath('C:/Users/Anurag/Desktop/MainProject/Dataset/Both Hand Raised Up/ae617ca8-759d-11ed-9fef-841b77913bf0.jpg'),\n WindowsPath('C:/Users/Anurag/Desktop/MainProject/Dataset/Both Hand Raised Up/ae6b6b4c-759d-11ed-bbce-841b77913bf0.jpg'),\n WindowsPath('C:/Users/Anurag/Desktop/MainProject/Dataset/Both Hand Raised Up/ae78ef04-759d-11ed-bd87-841b77913bf0.jpg'),\n WindowsPath('C:/Users/Anurag/Desktop/MainProject/Dataset/Both Hand Raised Up/ae87e3f9-759d-11ed-aeeb-841b77913bf0.jpg'),\n WindowsPath('C:/Users/Anurag/Desktop/MainProject/Dataset/Both Hand Raised Up/ae918158-759d-11ed-821f-841b77913bf0.jpg'),\n WindowsPath('C:/Users/Anurag/Desktop/MainProject/Dataset/Both Hand Raised Up/ae9ae736-759d-11ed-a4f2-841b77913bf0.jpg'),\n WindowsPath('C:/Users/Anurag/Desktop/MainProject/Dataset/Both Hand Raised Up/aea53578-759d-11ed-b2a6-841b77913bf0.jpg'),\n WindowsPath('C:/Users/Anurag/Desktop/MainProject/Dataset/Both Hand Raised Up/aeb6f8bd-759d-11ed-bf57-841b77913bf0.jpg'),\n WindowsPath('C:/Users/Anurag/Desktop/MainProject/Dataset/Both Hand Raised Up/aec130b5-759d-11ed-9a2e-841b77913bf0.jpg'),\n WindowsPath('C:/Users/Anurag/Desktop/MainProject/Dataset/Both Hand Raised Up/aecadb5f-759d-11ed-8a99-841b77913bf0.jpg'),\n WindowsPath('C:/Users/Anurag/Desktop/MainProject/Dataset/Both Hand Raised Up/aed48b74-759d-11ed-8bca-841b77913bf0.jpg'),\n WindowsPath('C:/Users/Anurag/Desktop/MainProject/Dataset/Both Hand Raised Up/aedf4cfc-759d-11ed-81e6-841b77913bf0.jpg'),\n WindowsPath('C:/Users/Anurag/Desktop/MainProject/Dataset/Both Hand Raised Up/aeec45e8-759d-11ed-9d04-841b77913bf0.jpg'),\n WindowsPath('C:/Users/Anurag/Desktop/MainProject/Dataset/Both Hand Raised Up/aef8dd84-759d-11ed-b02a-841b77913bf0.jpg'),\n WindowsPath('C:/Users/Anurag/Desktop/MainProject/Dataset/Both Hand Raised Up/af080d6a-759d-11ed-b2d7-841b77913bf0.jpg'),\n WindowsPath('C:/Users/Anurag/Desktop/MainProject/Dataset/Both Hand Raised Up/af140937-759d-11ed-824e-841b77913bf0.jpg'),\n WindowsPath('C:/Users/Anurag/Desktop/MainProject/Dataset/Both Hand Raised Up/af1f41f0-759d-11ed-9b64-841b77913bf0.jpg'),\n WindowsPath('C:/Users/Anurag/Desktop/MainProject/Dataset/Both Hand Raised Up/af297c1c-759d-11ed-aac6-841b77913bf0.jpg'),\n WindowsPath('C:/Users/Anurag/Desktop/MainProject/Dataset/Both Hand Raised Up/af360489-759d-11ed-9129-841b77913bf0.jpg'),\n WindowsPath('C:/Users/Anurag/Desktop/MainProject/Dataset/Both Hand Raised Up/af413fe5-759d-11ed-bccb-841b77913bf0.jpg'),\n WindowsPath('C:/Users/Anurag/Desktop/MainProject/Dataset/Both Hand Raised Up/af4aa3f5-759d-11ed-9c92-841b77913bf0.jpg'),\n WindowsPath('C:/Users/Anurag/Desktop/MainProject/Dataset/Both Hand Raised Up/af541f20-759d-11ed-9669-841b77913bf0.jpg'),\n WindowsPath('C:/Users/Anurag/Desktop/MainProject/Dataset/Both Hand Raised Up/af5d4a86-759d-11ed-9888-841b77913bf0.jpg'),\n WindowsPath('C:/Users/Anurag/Desktop/MainProject/Dataset/Both Hand Raised Up/af66f2ab-759d-11ed-83b3-841b77913bf0.jpg'),\n WindowsPath('C:/Users/Anurag/Desktop/MainProject/Dataset/Both Hand Raised Up/af713a57-759d-11ed-a860-841b77913bf0.jpg'),\n WindowsPath('C:/Users/Anurag/Desktop/MainProject/Dataset/Both Hand Raised Up/af7c0d98-759d-11ed-b46c-841b77913bf0.jpg'),\n WindowsPath('C:/Users/Anurag/Desktop/MainProject/Dataset/Both Hand Raised Up/af871fbc-759d-11ed-8409-841b77913bf0.jpg'),\n WindowsPath('C:/Users/Anurag/Desktop/MainProject/Dataset/Both Hand Raised Up/af92ad45-759d-11ed-9b99-841b77913bf0.jpg'),\n WindowsPath('C:/Users/Anurag/Desktop/MainProject/Dataset/Both Hand Raised Up/af9d4afa-759d-11ed-ac2c-841b77913bf0.jpg'),\n WindowsPath('C:/Users/Anurag/Desktop/MainProject/Dataset/Both Hand Raised Up/afa7b6c8-759d-11ed-a765-841b77913bf0.jpg'),\n WindowsPath('C:/Users/Anurag/Desktop/MainProject/Dataset/Both Hand Raised Up/afb17b71-759d-11ed-97a0-841b77913bf0.jpg'),\n WindowsPath('C:/Users/Anurag/Desktop/MainProject/Dataset/Both Hand Raised Up/afbb72ae-759d-11ed-9884-841b77913bf0.jpg'),\n WindowsPath('C:/Users/Anurag/Desktop/MainProject/Dataset/Both Hand Raised Up/afc4cddd-759d-11ed-af5c-841b77913bf0.jpg'),\n WindowsPath('C:/Users/Anurag/Desktop/MainProject/Dataset/Both Hand Raised Up/afce4d89-759d-11ed-a1b5-841b77913bf0.jpg'),\n WindowsPath('C:/Users/Anurag/Desktop/MainProject/Dataset/Both Hand Raised Up/afd8386f-759d-11ed-b1f4-841b77913bf0.jpg'),\n WindowsPath('C:/Users/Anurag/Desktop/MainProject/Dataset/Both Hand Raised Up/afe2383f-759d-11ed-b286-841b77913bf0.jpg'),\n WindowsPath('C:/Users/Anurag/Desktop/MainProject/Dataset/Both Hand Raised Up/afed8430-759d-11ed-ade7-841b77913bf0.jpg'),\n WindowsPath('C:/Users/Anurag/Desktop/MainProject/Dataset/Both Hand Raised Up/aff7657f-759d-11ed-a592-841b77913bf0.jpg'),\n WindowsPath('C:/Users/Anurag/Desktop/MainProject/Dataset/Both Hand Raised Up/b001da6a-759d-11ed-a9fa-841b77913bf0.jpg'),\n WindowsPath('C:/Users/Anurag/Desktop/MainProject/Dataset/Both Hand Raised Up/b00d7342-759d-11ed-98a9-841b77913bf0.jpg'),\n WindowsPath('C:/Users/Anurag/Desktop/MainProject/Dataset/Both Hand Raised Up/b0190748-759d-11ed-867a-841b77913bf0.jpg'),\n WindowsPath('C:/Users/Anurag/Desktop/MainProject/Dataset/Both Hand Raised Up/b02417d8-759d-11ed-86d8-841b77913bf0.jpg'),\n WindowsPath('C:/Users/Anurag/Desktop/MainProject/Dataset/Both Hand Raised Up/b030b020-759d-11ed-abc2-841b77913bf0.jpg'),\n WindowsPath('C:/Users/Anurag/Desktop/MainProject/Dataset/Both Hand Raised Up/b03c7028-759d-11ed-805a-841b77913bf0.jpg'),\n WindowsPath('C:/Users/Anurag/Desktop/MainProject/Dataset/Both Hand Raised Up/b0479729-759d-11ed-92e9-841b77913bf0.jpg'),\n WindowsPath('C:/Users/Anurag/Desktop/MainProject/Dataset/Both Hand Raised Up/b053bd56-759d-11ed-8492-841b77913bf0.jpg'),\n WindowsPath('C:/Users/Anurag/Desktop/MainProject/Dataset/Both Hand Raised Up/b0611975-759d-11ed-a807-841b77913bf0.jpg'),\n WindowsPath('C:/Users/Anurag/Desktop/MainProject/Dataset/Both Hand Raised Up/b06ce0bb-759d-11ed-88f5-841b77913bf0.jpg'),\n WindowsPath('C:/Users/Anurag/Desktop/MainProject/Dataset/Both Hand Raised Up/b0785281-759d-11ed-95b2-841b77913bf0.jpg'),\n WindowsPath('C:/Users/Anurag/Desktop/MainProject/Dataset/Both Hand Raised Up/b083644e-759d-11ed-85d1-841b77913bf0.jpg'),\n WindowsPath('C:/Users/Anurag/Desktop/MainProject/Dataset/Both Hand Raised Up/b08eec63-759d-11ed-bf24-841b77913bf0.jpg'),\n WindowsPath('C:/Users/Anurag/Desktop/MainProject/Dataset/Both Hand Raised Up/b098b1ca-759d-11ed-afb4-841b77913bf0.jpg'),\n WindowsPath('C:/Users/Anurag/Desktop/MainProject/Dataset/Both Hand Raised Up/b0a2d516-759d-11ed-afa6-841b77913bf0.jpg'),\n WindowsPath('C:/Users/Anurag/Desktop/MainProject/Dataset/Both Hand Raised Up/b0ae187d-759d-11ed-96d8-841b77913bf0.jpg'),\n WindowsPath('C:/Users/Anurag/Desktop/MainProject/Dataset/Both Hand Raised Up/b0bb3559-759d-11ed-a26e-841b77913bf0.jpg'),\n WindowsPath('C:/Users/Anurag/Desktop/MainProject/Dataset/Both Hand Raised Up/b0c6f60a-759d-11ed-9186-841b77913bf0.jpg'),\n WindowsPath('C:/Users/Anurag/Desktop/MainProject/Dataset/Both Hand Raised Up/b0d33f1b-759d-11ed-ae77-841b77913bf0.jpg'),\n WindowsPath('C:/Users/Anurag/Desktop/MainProject/Dataset/Both Hand Raised Up/b0de9e02-759d-11ed-bb60-841b77913bf0.jpg'),\n WindowsPath('C:/Users/Anurag/Desktop/MainProject/Dataset/Both Hand Raised Up/b0ea9958-759d-11ed-a52c-841b77913bf0.jpg'),\n WindowsPath('C:/Users/Anurag/Desktop/MainProject/Dataset/Both Hand Raised Up/b0f69514-759d-11ed-9c34-841b77913bf0.jpg'),\n WindowsPath('C:/Users/Anurag/Desktop/MainProject/Dataset/Both Hand Raised Up/b0fff615-759d-11ed-b29c-841b77913bf0.jpg'),\n WindowsPath('C:/Users/Anurag/Desktop/MainProject/Dataset/Both Hand Raised Up/b10944e8-759d-11ed-b409-841b77913bf0.jpg'),\n WindowsPath('C:/Users/Anurag/Desktop/MainProject/Dataset/Both Hand Raised Up/b113280e-759d-11ed-a0dc-841b77913bf0.jpg'),\n WindowsPath('C:/Users/Anurag/Desktop/MainProject/Dataset/Both Hand Raised Up/b11cb6fc-759d-11ed-8a4e-841b77913bf0.jpg'),\n WindowsPath('C:/Users/Anurag/Desktop/MainProject/Dataset/Both Hand Raised Up/b126e549-759d-11ed-8817-841b77913bf0.jpg'),\n WindowsPath('C:/Users/Anurag/Desktop/MainProject/Dataset/Both Hand Raised Up/b1305b5a-759d-11ed-b5c0-841b77913bf0.jpg'),\n WindowsPath('C:/Users/Anurag/Desktop/MainProject/Dataset/Both Hand Raised Up/b139e53b-759d-11ed-a49c-841b77913bf0.jpg'),\n WindowsPath('C:/Users/Anurag/Desktop/MainProject/Dataset/Both Hand Raised Up/b150cc46-759d-11ed-bc93-841b77913bf0.jpg'),\n WindowsPath('C:/Users/Anurag/Desktop/MainProject/Dataset/Both Hand Raised Up/b15c4d3f-759d-11ed-ac2f-841b77913bf0.jpg'),\n WindowsPath('C:/Users/Anurag/Desktop/MainProject/Dataset/Scroll Down/0e28b7b9-759d-11ed-822d-841b77913bf0.jpg'),\n WindowsPath('C:/Users/Anurag/Desktop/MainProject/Dataset/Scroll Down/0e3bfeb8-759d-11ed-942c-841b77913bf0.jpg'),\n WindowsPath('C:/Users/Anurag/Desktop/MainProject/Dataset/Scroll Down/0e472254-759d-11ed-bb91-841b77913bf0.jpg'),\n WindowsPath('C:/Users/Anurag/Desktop/MainProject/Dataset/Scroll Down/0e52f161-759d-11ed-8c30-841b77913bf0.jpg'),\n WindowsPath('C:/Users/Anurag/Desktop/MainProject/Dataset/Scroll Down/0e5e50a9-759d-11ed-90b5-841b77913bf0.jpg'),\n WindowsPath('C:/Users/Anurag/Desktop/MainProject/Dataset/Scroll Down/0e6cce78-759d-11ed-a6e8-841b77913bf0.jpg'),\n WindowsPath('C:/Users/Anurag/Desktop/MainProject/Dataset/Scroll Down/0e793f3b-759d-11ed-9afe-841b77913bf0.jpg'),\n WindowsPath('C:/Users/Anurag/Desktop/MainProject/Dataset/Scroll Down/0e84e128-759d-11ed-af6a-841b77913bf0.jpg'),\n WindowsPath('C:/Users/Anurag/Desktop/MainProject/Dataset/Scroll Down/0e91b515-759d-11ed-8209-841b77913bf0.jpg'),\n WindowsPath('C:/Users/Anurag/Desktop/MainProject/Dataset/Scroll Down/0ea0aaeb-759d-11ed-b173-841b77913bf0.jpg'),\n WindowsPath('C:/Users/Anurag/Desktop/MainProject/Dataset/Scroll Down/0eab81d2-759d-11ed-949a-841b77913bf0.jpg'),\n WindowsPath('C:/Users/Anurag/Desktop/MainProject/Dataset/Scroll Down/0eb76631-759d-11ed-a732-841b77913bf0.jpg'),\n WindowsPath('C:/Users/Anurag/Desktop/MainProject/Dataset/Scroll Down/0ecbc9d5-759d-11ed-8390-841b77913bf0.jpg'),\n WindowsPath('C:/Users/Anurag/Desktop/MainProject/Dataset/Scroll Down/0ed729e9-759d-11ed-8c50-841b77913bf0.jpg'),\n WindowsPath('C:/Users/Anurag/Desktop/MainProject/Dataset/Scroll Down/0ee2c30a-759d-11ed-a99f-841b77913bf0.jpg'),\n WindowsPath('C:/Users/Anurag/Desktop/MainProject/Dataset/Scroll Down/0eef700a-759d-11ed-9395-841b77913bf0.jpg'),\n WindowsPath('C:/Users/Anurag/Desktop/MainProject/Dataset/Scroll Down/0efb93a8-759d-11ed-a6e4-841b77913bf0.jpg'),\n WindowsPath('C:/Users/Anurag/Desktop/MainProject/Dataset/Scroll Down/0f07b95c-759d-11ed-810e-841b77913bf0.jpg'),\n WindowsPath('C:/Users/Anurag/Desktop/MainProject/Dataset/Scroll Down/0f13b3ce-759d-11ed-a38d-841b77913bf0.jpg'),\n WindowsPath('C:/Users/Anurag/Desktop/MainProject/Dataset/Scroll Down/0f1f25d1-759d-11ed-89b5-841b77913bf0.jpg'),\n WindowsPath('C:/Users/Anurag/Desktop/MainProject/Dataset/Scroll Down/0f2b5143-759d-11ed-867e-841b77913bf0.jpg'),\n WindowsPath('C:/Users/Anurag/Desktop/MainProject/Dataset/Scroll Down/0f36d87c-759d-11ed-81a6-841b77913bf0.jpg'),\n WindowsPath('C:/Users/Anurag/Desktop/MainProject/Dataset/Scroll Down/0f44c026-759d-11ed-aebe-841b77913bf0.jpg'),\n WindowsPath('C:/Users/Anurag/Desktop/MainProject/Dataset/Scroll Down/0f51e315-759d-11ed-baa5-841b77913bf0.jpg'),\n WindowsPath('C:/Users/Anurag/Desktop/MainProject/Dataset/Scroll Down/0f5d6751-759d-11ed-930b-841b77913bf0.jpg'),\n WindowsPath('C:/Users/Anurag/Desktop/MainProject/Dataset/Scroll Down/0f6a4caf-759d-11ed-9e51-841b77913bf0.jpg'),\n WindowsPath('C:/Users/Anurag/Desktop/MainProject/Dataset/Scroll Down/0f77a843-759d-11ed-adf0-841b77913bf0.jpg'),\n WindowsPath('C:/Users/Anurag/Desktop/MainProject/Dataset/Scroll Down/0f84b4c6-759d-11ed-b475-841b77913bf0.jpg'),\n WindowsPath('C:/Users/Anurag/Desktop/MainProject/Dataset/Scroll Down/0f8f7768-759d-11ed-bbca-841b77913bf0.jpg'),\n WindowsPath('C:/Users/Anurag/Desktop/MainProject/Dataset/Scroll Down/0f9b2561-759d-11ed-8af1-841b77913bf0.jpg'),\n WindowsPath('C:/Users/Anurag/Desktop/MainProject/Dataset/Scroll Down/0fa77712-759d-11ed-8333-841b77913bf0.jpg'),\n WindowsPath('C:/Users/Anurag/Desktop/MainProject/Dataset/Scroll Down/0fb34489-759d-11ed-a14e-841b77913bf0.jpg'),\n WindowsPath('C:/Users/Anurag/Desktop/MainProject/Dataset/Scroll Down/0fbf6735-759d-11ed-9375-841b77913bf0.jpg'),\n WindowsPath('C:/Users/Anurag/Desktop/MainProject/Dataset/Scroll Down/0fcbb0f5-759d-11ed-a491-841b77913bf0.jpg'),\n WindowsPath('C:/Users/Anurag/Desktop/MainProject/Dataset/Scroll Down/0fd72467-759d-11ed-bbe5-841b77913bf0.jpg'),\n WindowsPath('C:/Users/Anurag/Desktop/MainProject/Dataset/Scroll Down/0fe34683-759d-11ed-beae-841b77913bf0.jpg'),\n WindowsPath('C:/Users/Anurag/Desktop/MainProject/Dataset/Scroll Down/0ff05369-759d-11ed-a530-841b77913bf0.jpg'),\n WindowsPath('C:/Users/Anurag/Desktop/MainProject/Dataset/Scroll Down/0ffb7963-759d-11ed-bff4-841b77913bf0.jpg'),\n WindowsPath('C:/Users/Anurag/Desktop/MainProject/Dataset/Scroll Down/10079c12-759d-11ed-9c4c-841b77913bf0.jpg'),\n WindowsPath('C:/Users/Anurag/Desktop/MainProject/Dataset/Scroll Down/101383ab-759d-11ed-b3a3-841b77913bf0.jpg'),\n WindowsPath('C:/Users/Anurag/Desktop/MainProject/Dataset/Scroll Down/1020268e-759d-11ed-a250-841b77913bf0.jpg'),\n WindowsPath('C:/Users/Anurag/Desktop/MainProject/Dataset/Scroll Down/102c1671-759d-11ed-80f1-841b77913bf0.jpg'),\n WindowsPath('C:/Users/Anurag/Desktop/MainProject/Dataset/Scroll Down/1038282f-759d-11ed-9ade-841b77913bf0.jpg'),\n WindowsPath('C:/Users/Anurag/Desktop/MainProject/Dataset/Scroll Down/1044c171-759d-11ed-ae99-841b77913bf0.jpg'),\n WindowsPath('C:/Users/Anurag/Desktop/MainProject/Dataset/Scroll Down/104f979c-759d-11ed-942a-841b77913bf0.jpg'),\n WindowsPath('C:/Users/Anurag/Desktop/MainProject/Dataset/Scroll Down/105c0963-759d-11ed-9e82-841b77913bf0.jpg'),\n WindowsPath('C:/Users/Anurag/Desktop/MainProject/Dataset/Scroll Down/10686994-759d-11ed-807b-841b77913bf0.jpg'),\n WindowsPath('C:/Users/Anurag/Desktop/MainProject/Dataset/Scroll Down/107614a3-759d-11ed-9eab-841b77913bf0.jpg'),\n WindowsPath('C:/Users/Anurag/Desktop/MainProject/Dataset/Scroll Down/1081739c-759d-11ed-a0e3-841b77913bf0.jpg'),\n WindowsPath('C:/Users/Anurag/Desktop/MainProject/Dataset/Scroll Down/108da931-759d-11ed-965f-841b77913bf0.jpg'),\n WindowsPath('C:/Users/Anurag/Desktop/MainProject/Dataset/Scroll Down/109a0da2-759d-11ed-b7ad-841b77913bf0.jpg'),\n WindowsPath('C:/Users/Anurag/Desktop/MainProject/Dataset/Scroll Down/10a8192e-759d-11ed-b12c-841b77913bf0.jpg'),\n WindowsPath('C:/Users/Anurag/Desktop/MainProject/Dataset/Scroll Down/10b5c340-759d-11ed-bc20-841b77913bf0.jpg'),\n WindowsPath('C:/Users/Anurag/Desktop/MainProject/Dataset/Scroll Down/10c1c032-759d-11ed-8f3f-841b77913bf0.jpg'),\n WindowsPath('C:/Users/Anurag/Desktop/MainProject/Dataset/Scroll Down/10cdc744-759d-11ed-baff-841b77913bf0.jpg'),\n WindowsPath('C:/Users/Anurag/Desktop/MainProject/Dataset/Scroll Down/10d95243-759d-11ed-9af9-841b77913bf0.jpg'),\n WindowsPath('C:/Users/Anurag/Desktop/MainProject/Dataset/Scroll Down/10e56efd-759d-11ed-aa9c-841b77913bf0.jpg'),\n WindowsPath('C:/Users/Anurag/Desktop/MainProject/Dataset/Scroll Down/10f1335b-759d-11ed-8e08-841b77913bf0.jpg'),\n WindowsPath('C:/Users/Anurag/Desktop/MainProject/Dataset/Scroll Down/10fd1fc7-759d-11ed-a224-841b77913bf0.jpg'),\n WindowsPath('C:/Users/Anurag/Desktop/MainProject/Dataset/Scroll Down/1109c8b8-759d-11ed-86c1-841b77913bf0.jpg'),\n WindowsPath('C:/Users/Anurag/Desktop/MainProject/Dataset/Scroll Down/1116255a-759d-11ed-b818-841b77913bf0.jpg'),\n WindowsPath('C:/Users/Anurag/Desktop/MainProject/Dataset/Scroll Down/1121be5b-759d-11ed-b102-841b77913bf0.jpg'),\n WindowsPath('C:/Users/Anurag/Desktop/MainProject/Dataset/Scroll Down/112de032-759d-11ed-96ee-841b77913bf0.jpg'),\n WindowsPath('C:/Users/Anurag/Desktop/MainProject/Dataset/Scroll Down/1139636a-759d-11ed-b44b-841b77913bf0.jpg'),\n WindowsPath('C:/Users/Anurag/Desktop/MainProject/Dataset/Scroll Down/1143503e-759d-11ed-bb43-841b77913bf0.jpg'),\n WindowsPath('C:/Users/Anurag/Desktop/MainProject/Dataset/Scroll Down/114d4f51-759d-11ed-8df6-841b77913bf0.jpg'),\n WindowsPath('C:/Users/Anurag/Desktop/MainProject/Dataset/Scroll Left/30a35c81-759d-11ed-a4c8-841b77913bf0.jpg'),\n WindowsPath('C:/Users/Anurag/Desktop/MainProject/Dataset/Scroll Left/30ba39b0-759d-11ed-92eb-841b77913bf0.jpg'),\n WindowsPath('C:/Users/Anurag/Desktop/MainProject/Dataset/Scroll Left/30c579d6-759d-11ed-8a2a-841b77913bf0.jpg'),\n WindowsPath('C:/Users/Anurag/Desktop/MainProject/Dataset/Scroll Left/30d2acfb-759d-11ed-b9c4-841b77913bf0.jpg'),\n WindowsPath('C:/Users/Anurag/Desktop/MainProject/Dataset/Scroll Left/30de6cbd-759d-11ed-9769-841b77913bf0.jpg'),\n WindowsPath('C:/Users/Anurag/Desktop/MainProject/Dataset/Scroll Left/30eb5368-759d-11ed-a74f-841b77913bf0.jpg'),\n WindowsPath('C:/Users/Anurag/Desktop/MainProject/Dataset/Scroll Left/30f5b7f8-759d-11ed-9b00-841b77913bf0.jpg'),\n WindowsPath('C:/Users/Anurag/Desktop/MainProject/Dataset/Scroll Left/3101de97-759d-11ed-9c80-841b77913bf0.jpg'),\n WindowsPath('C:/Users/Anurag/Desktop/MainProject/Dataset/Scroll Left/310d3180-759d-11ed-9b55-841b77913bf0.jpg'),\n WindowsPath('C:/Users/Anurag/Desktop/MainProject/Dataset/Scroll Left/31197ba7-759d-11ed-a6cc-841b77913bf0.jpg'),\n WindowsPath('C:/Users/Anurag/Desktop/MainProject/Dataset/Scroll Left/3125512c-759d-11ed-8c1b-841b77913bf0.jpg'),\n WindowsPath('C:/Users/Anurag/Desktop/MainProject/Dataset/Scroll Left/3131a356-759d-11ed-85b7-841b77913bf0.jpg'),\n WindowsPath('C:/Users/Anurag/Desktop/MainProject/Dataset/Scroll Left/313f4d2d-759d-11ed-aa94-841b77913bf0.jpg'),\n WindowsPath('C:/Users/Anurag/Desktop/MainProject/Dataset/Scroll Left/314bd1d1-759d-11ed-a32e-841b77913bf0.jpg'),\n WindowsPath('C:/Users/Anurag/Desktop/MainProject/Dataset/Scroll Left/315838f5-759d-11ed-93a4-841b77913bf0.jpg'),\n WindowsPath('C:/Users/Anurag/Desktop/MainProject/Dataset/Scroll Left/3164277d-759d-11ed-b65f-841b77913bf0.jpg'),\n WindowsPath('C:/Users/Anurag/Desktop/MainProject/Dataset/Scroll Left/3171ad1d-759d-11ed-b340-841b77913bf0.jpg'),\n WindowsPath('C:/Users/Anurag/Desktop/MainProject/Dataset/Scroll Left/317f09d6-759d-11ed-8284-841b77913bf0.jpg'),\n WindowsPath('C:/Users/Anurag/Desktop/MainProject/Dataset/Scroll Left/318c7a8c-759d-11ed-b68b-841b77913bf0.jpg'),\n WindowsPath('C:/Users/Anurag/Desktop/MainProject/Dataset/Scroll Left/319c0ee4-759d-11ed-9882-841b77913bf0.jpg'),\n WindowsPath('C:/Users/Anurag/Desktop/MainProject/Dataset/Scroll Left/31a7cf14-759d-11ed-92b5-841b77913bf0.jpg'),\n WindowsPath('C:/Users/Anurag/Desktop/MainProject/Dataset/Scroll Left/31b32400-759d-11ed-90f7-841b77913bf0.jpg'),\n WindowsPath('C:/Users/Anurag/Desktop/MainProject/Dataset/Scroll Left/31befe8b-759d-11ed-a0fb-841b77913bf0.jpg'),\n WindowsPath('C:/Users/Anurag/Desktop/MainProject/Dataset/Scroll Left/31cb1050-759d-11ed-8dd5-841b77913bf0.jpg'),\n WindowsPath('C:/Users/Anurag/Desktop/MainProject/Dataset/Scroll Left/31d6bd02-759d-11ed-8fe6-841b77913bf0.jpg'),\n WindowsPath('C:/Users/Anurag/Desktop/MainProject/Dataset/Scroll Left/31e32403-759d-11ed-8ad4-841b77913bf0.jpg'),\n WindowsPath('C:/Users/Anurag/Desktop/MainProject/Dataset/Scroll Left/31eef875-759d-11ed-bfde-841b77913bf0.jpg'),\n WindowsPath('C:/Users/Anurag/Desktop/MainProject/Dataset/Scroll Left/31faf395-759d-11ed-bf53-841b77913bf0.jpg'),\n WindowsPath('C:/Users/Anurag/Desktop/MainProject/Dataset/Scroll Left/320718a2-759d-11ed-9574-841b77913bf0.jpg'),\n WindowsPath('C:/Users/Anurag/Desktop/MainProject/Dataset/Scroll Left/3212c2c5-759d-11ed-b427-841b77913bf0.jpg'),\n WindowsPath('C:/Users/Anurag/Desktop/MainProject/Dataset/Scroll Left/321f3484-759d-11ed-b625-841b77913bf0.jpg'),\n WindowsPath('C:/Users/Anurag/Desktop/MainProject/Dataset/Scroll Left/322a6ed8-759d-11ed-9ed8-841b77913bf0.jpg'),\n WindowsPath('C:/Users/Anurag/Desktop/MainProject/Dataset/Scroll Left/3234a08f-759d-11ed-a5ff-841b77913bf0.jpg'),\n WindowsPath('C:/Users/Anurag/Desktop/MainProject/Dataset/Scroll Left/3240d634-759d-11ed-9d48-841b77913bf0.jpg'),\n WindowsPath('C:/Users/Anurag/Desktop/MainProject/Dataset/Scroll Left/324de2a9-759d-11ed-88d4-841b77913bf0.jpg'),\n WindowsPath('C:/Users/Anurag/Desktop/MainProject/Dataset/Scroll Left/3259695f-759d-11ed-bf58-841b77913bf0.jpg'),\n WindowsPath('C:/Users/Anurag/Desktop/MainProject/Dataset/Scroll Left/32654184-759d-11ed-8bc1-841b77913bf0.jpg'),\n WindowsPath('C:/Users/Anurag/Desktop/MainProject/Dataset/Scroll Left/32713ff0-759d-11ed-8bc7-841b77913bf0.jpg'),\n WindowsPath('C:/Users/Anurag/Desktop/MainProject/Dataset/Scroll Left/327d4e58-759d-11ed-a6f3-841b77913bf0.jpg'),\n WindowsPath('C:/Users/Anurag/Desktop/MainProject/Dataset/Scroll Left/3289c9e7-759d-11ed-8528-841b77913bf0.jpg'),\n WindowsPath('C:/Users/Anurag/Desktop/MainProject/Dataset/Scroll Left/3295e5c6-759d-11ed-9a17-841b77913bf0.jpg'),\n WindowsPath('C:/Users/Anurag/Desktop/MainProject/Dataset/Scroll Right/4a68ac0a-759d-11ed-8b6d-841b77913bf0.jpg'),\n WindowsPath('C:/Users/Anurag/Desktop/MainProject/Dataset/Scroll Right/4a7fa47e-759d-11ed-9f02-841b77913bf0.jpg'),\n WindowsPath('C:/Users/Anurag/Desktop/MainProject/Dataset/Scroll Right/4a8bb69d-759d-11ed-8f57-841b77913bf0.jpg'),\n WindowsPath('C:/Users/Anurag/Desktop/MainProject/Dataset/Scroll Right/4a982771-759d-11ed-b6bd-841b77913bf0.jpg'),\n WindowsPath('C:/Users/Anurag/Desktop/MainProject/Dataset/Scroll Right/4aa38bfb-759d-11ed-87e4-841b77913bf0.jpg'),\n WindowsPath('C:/Users/Anurag/Desktop/MainProject/Dataset/Scroll Right/4ab3b518-759d-11ed-b97b-841b77913bf0.jpg'),\n WindowsPath('C:/Users/Anurag/Desktop/MainProject/Dataset/Scroll Right/4abf9c4b-759d-11ed-a292-841b77913bf0.jpg'),\n WindowsPath('C:/Users/Anurag/Desktop/MainProject/Dataset/Scroll Right/4acd5761-759d-11ed-b843-841b77913bf0.jpg'),\n WindowsPath('C:/Users/Anurag/Desktop/MainProject/Dataset/Scroll Right/4ad99afa-759d-11ed-b4fa-841b77913bf0.jpg'),\n WindowsPath('C:/Users/Anurag/Desktop/MainProject/Dataset/Scroll Right/4ae7bb76-759d-11ed-b95d-841b77913bf0.jpg'),\n WindowsPath('C:/Users/Anurag/Desktop/MainProject/Dataset/Scroll Right/4af7d8fb-759d-11ed-b3e9-841b77913bf0.jpg'),\n WindowsPath('C:/Users/Anurag/Desktop/MainProject/Dataset/Scroll Right/4b040767-759d-11ed-abcf-841b77913bf0.jpg'),\n WindowsPath('C:/Users/Anurag/Desktop/MainProject/Dataset/Scroll Right/4b0ff18c-759d-11ed-bbc3-841b77913bf0.jpg'),\n WindowsPath('C:/Users/Anurag/Desktop/MainProject/Dataset/Scroll Right/4b1c008b-759d-11ed-8457-841b77913bf0.jpg'),\n WindowsPath('C:/Users/Anurag/Desktop/MainProject/Dataset/Scroll Right/4b26dc7f-759d-11ed-b103-841b77913bf0.jpg'),\n WindowsPath('C:/Users/Anurag/Desktop/MainProject/Dataset/Scroll Right/4b33384f-759d-11ed-93d3-841b77913bf0.jpg'),\n WindowsPath('C:/Users/Anurag/Desktop/MainProject/Dataset/Scroll Right/4b404628-759d-11ed-b28a-841b77913bf0.jpg'),\n WindowsPath('C:/Users/Anurag/Desktop/MainProject/Dataset/Scroll Right/4b4c1d1d-759d-11ed-90c2-841b77913bf0.jpg'),\n WindowsPath('C:/Users/Anurag/Desktop/MainProject/Dataset/Scroll Right/4b57672a-759d-11ed-a22a-841b77913bf0.jpg'),\n WindowsPath('C:/Users/Anurag/Desktop/MainProject/Dataset/Scroll Right/4b636365-759d-11ed-96af-841b77913bf0.jpg'),\n WindowsPath('C:/Users/Anurag/Desktop/MainProject/Dataset/Scroll Right/4b710e22-759d-11ed-91c8-841b77913bf0.jpg'),\n WindowsPath('C:/Users/Anurag/Desktop/MainProject/Dataset/Scroll Right/4b7df497-759d-11ed-bd8f-841b77913bf0.jpg'),\n WindowsPath('C:/Users/Anurag/Desktop/MainProject/Dataset/Scroll Right/4b892c41-759d-11ed-a396-841b77913bf0.jpg'),\n WindowsPath('C:/Users/Anurag/Desktop/MainProject/Dataset/Scroll Right/4b953bf8-759d-11ed-ae64-841b77913bf0.jpg'),\n WindowsPath('C:/Users/Anurag/Desktop/MainProject/Dataset/Scroll Right/4ba1372b-759d-11ed-a9f9-841b77913bf0.jpg'),\n WindowsPath('C:/Users/Anurag/Desktop/MainProject/Dataset/Scroll Right/4bad5d58-759d-11ed-aadb-841b77913bf0.jpg'),\n WindowsPath('C:/Users/Anurag/Desktop/MainProject/Dataset/Scroll Right/4bb98c75-759d-11ed-bcb0-841b77913bf0.jpg'),\n WindowsPath('C:/Users/Anurag/Desktop/MainProject/Dataset/Scroll Right/4bc65b78-759d-11ed-9f15-841b77913bf0.jpg'),\n WindowsPath('C:/Users/Anurag/Desktop/MainProject/Dataset/Scroll Right/4bd2426d-759d-11ed-9d77-841b77913bf0.jpg'),\n WindowsPath('C:/Users/Anurag/Desktop/MainProject/Dataset/Scroll Right/4be0bc0c-759d-11ed-9626-841b77913bf0.jpg'),\n WindowsPath('C:/Users/Anurag/Desktop/MainProject/Dataset/Scroll Right/4bec30a9-759d-11ed-8714-841b77913bf0.jpg'),\n WindowsPath('C:/Users/Anurag/Desktop/MainProject/Dataset/Scroll Right/4bf7ccdc-759d-11ed-bfce-841b77913bf0.jpg'),\n WindowsPath('C:/Users/Anurag/Desktop/MainProject/Dataset/Scroll Right/4c0450e8-759d-11ed-a06b-841b77913bf0.jpg'),\n WindowsPath('C:/Users/Anurag/Desktop/MainProject/Dataset/Scroll Right/4c106cfa-759d-11ed-a478-841b77913bf0.jpg'),\n WindowsPath('C:/Users/Anurag/Desktop/MainProject/Dataset/Scroll Right/4c1c470c-759d-11ed-9a24-841b77913bf0.jpg'),\n WindowsPath('C:/Users/Anurag/Desktop/MainProject/Dataset/Scroll Right/4c28536f-759d-11ed-bfb1-841b77913bf0.jpg'),\n WindowsPath('C:/Users/Anurag/Desktop/MainProject/Dataset/Scroll Right/4c34524a-759d-11ed-a43c-841b77913bf0.jpg'),\n WindowsPath('C:/Users/Anurag/Desktop/MainProject/Dataset/Scroll Right/4c40e9c6-759d-11ed-b808-841b77913bf0.jpg'),\n WindowsPath('C:/Users/Anurag/Desktop/MainProject/Dataset/Scroll Right/4c4d9450-759d-11ed-9925-841b77913bf0.jpg'),\n WindowsPath('C:/Users/Anurag/Desktop/MainProject/Dataset/Scroll Right/4c59d5da-759d-11ed-8afb-841b77913bf0.jpg'),\n WindowsPath('C:/Users/Anurag/Desktop/MainProject/Dataset/Scroll Right/4c65cf25-759d-11ed-8da6-841b77913bf0.jpg'),\n WindowsPath('C:/Users/Anurag/Desktop/MainProject/Dataset/Scroll Right/4c72b606-759d-11ed-994a-841b77913bf0.jpg'),\n WindowsPath('C:/Users/Anurag/Desktop/MainProject/Dataset/Scroll Right/4c7e17cf-759d-11ed-b546-841b77913bf0.jpg'),\n WindowsPath('C:/Users/Anurag/Desktop/MainProject/Dataset/Scroll Right/4c8962b6-759d-11ed-bffa-841b77913bf0.jpg'),\n WindowsPath('C:/Users/Anurag/Desktop/MainProject/Dataset/Scroll Right/4c94c4e9-759d-11ed-9bc7-841b77913bf0.jpg'),\n WindowsPath('C:/Users/Anurag/Desktop/MainProject/Dataset/Scroll Right/4ca2a8d0-759d-11ed-a9b0-841b77913bf0.jpg'),\n WindowsPath('C:/Users/Anurag/Desktop/MainProject/Dataset/Scroll Right/4cad2132-759d-11ed-8689-841b77913bf0.jpg'),\n WindowsPath('C:/Users/Anurag/Desktop/MainProject/Dataset/Scroll Right/4cb8bfac-759d-11ed-8906-841b77913bf0.jpg'),\n WindowsPath('C:/Users/Anurag/Desktop/MainProject/Dataset/Scroll Right/4cc2ad8c-759d-11ed-8834-841b77913bf0.jpg'),\n WindowsPath('C:/Users/Anurag/Desktop/MainProject/Dataset/Scroll up/dbff3dd8-759c-11ed-8e4d-841b77913bf0.jpg'),\n WindowsPath('C:/Users/Anurag/Desktop/MainProject/Dataset/Scroll up/dc190b1a-759c-11ed-9806-841b77913bf0.jpg'),\n WindowsPath('C:/Users/Anurag/Desktop/MainProject/Dataset/Scroll up/dc257cd6-759c-11ed-9040-841b77913bf0.jpg'),\n WindowsPath('C:/Users/Anurag/Desktop/MainProject/Dataset/Scroll up/dc318afb-759c-11ed-bac1-841b77913bf0.jpg'),\n WindowsPath('C:/Users/Anurag/Desktop/MainProject/Dataset/Scroll up/dc3d120f-759c-11ed-bc97-841b77913bf0.jpg'),\n WindowsPath('C:/Users/Anurag/Desktop/MainProject/Dataset/Scroll up/dc4981f0-759c-11ed-bd9f-841b77913bf0.jpg'),\n WindowsPath('C:/Users/Anurag/Desktop/MainProject/Dataset/Scroll up/dc550943-759c-11ed-ad8d-841b77913bf0.jpg'),\n WindowsPath('C:/Users/Anurag/Desktop/MainProject/Dataset/Scroll up/dc6347a0-759c-11ed-99d3-841b77913bf0.jpg'),\n WindowsPath('C:/Users/Anurag/Desktop/MainProject/Dataset/Scroll up/dc6f885f-759c-11ed-b1a4-841b77913bf0.jpg'),\n WindowsPath('C:/Users/Anurag/Desktop/MainProject/Dataset/Scroll up/dc7bd1bf-759c-11ed-9b16-841b77913bf0.jpg'),\n WindowsPath('C:/Users/Anurag/Desktop/MainProject/Dataset/Scroll up/dc87bd55-759c-11ed-b492-841b77913bf0.jpg'),\n WindowsPath('C:/Users/Anurag/Desktop/MainProject/Dataset/Scroll up/dc93b727-759c-11ed-b2fd-841b77913bf0.jpg'),\n WindowsPath('C:/Users/Anurag/Desktop/MainProject/Dataset/Scroll up/dc9fdb1d-759c-11ed-9989-841b77913bf0.jpg'),\n WindowsPath('C:/Users/Anurag/Desktop/MainProject/Dataset/Scroll up/dcae9203-759c-11ed-a792-841b77913bf0.jpg'),\n WindowsPath('C:/Users/Anurag/Desktop/MainProject/Dataset/Scroll up/dcbac792-759c-11ed-9ec7-841b77913bf0.jpg'),\n WindowsPath('C:/Users/Anurag/Desktop/MainProject/Dataset/Scroll up/dcc7af02-759c-11ed-a213-841b77913bf0.jpg'),\n WindowsPath('C:/Users/Anurag/Desktop/MainProject/Dataset/Scroll up/dcd27091-759c-11ed-b2f0-841b77913bf0.jpg'),\n WindowsPath('C:/Users/Anurag/Desktop/MainProject/Dataset/Scroll up/dcde8aab-759c-11ed-a26b-841b77913bf0.jpg'),\n WindowsPath('C:/Users/Anurag/Desktop/MainProject/Dataset/Scroll up/dcea312f-759c-11ed-a6dc-841b77913bf0.jpg'),\n WindowsPath('C:/Users/Anurag/Desktop/MainProject/Dataset/Scroll up/dcf67f24-759c-11ed-aa8f-841b77913bf0.jpg'),\n WindowsPath('C:/Users/Anurag/Desktop/MainProject/Dataset/Scroll up/dd02211e-759c-11ed-aeb8-841b77913bf0.jpg'),\n WindowsPath('C:/Users/Anurag/Desktop/MainProject/Dataset/Scroll up/dd0ed1c8-759c-11ed-85e7-841b77913bf0.jpg'),\n WindowsPath('C:/Users/Anurag/Desktop/MainProject/Dataset/Scroll up/dd1a5844-759c-11ed-af7d-841b77913bf0.jpg'),\n WindowsPath('C:/Users/Anurag/Desktop/MainProject/Dataset/Scroll up/dd2676b1-759c-11ed-8a0a-841b77913bf0.jpg'),\n WindowsPath('C:/Users/Anurag/Desktop/MainProject/Dataset/Scroll up/dd31c689-759c-11ed-86bf-841b77913bf0.jpg'),\n WindowsPath('C:/Users/Anurag/Desktop/MainProject/Dataset/Scroll up/dd3e016c-759c-11ed-84f6-841b77913bf0.jpg'),\n WindowsPath('C:/Users/Anurag/Desktop/MainProject/Dataset/Scroll up/dd49a1f6-759c-11ed-983c-841b77913bf0.jpg'),\n WindowsPath('C:/Users/Anurag/Desktop/MainProject/Dataset/Scroll up/dd55502a-759c-11ed-b001-841b77913bf0.jpg'),\n WindowsPath('C:/Users/Anurag/Desktop/MainProject/Dataset/Scroll up/dd618578-759c-11ed-8564-841b77913bf0.jpg'),\n WindowsPath('C:/Users/Anurag/Desktop/MainProject/Dataset/Scroll up/dd6d5921-759c-11ed-8f07-841b77913bf0.jpg'),\n WindowsPath('C:/Users/Anurag/Desktop/MainProject/Dataset/Scroll up/dd791afd-759c-11ed-8e72-841b77913bf0.jpg'),\n WindowsPath('C:/Users/Anurag/Desktop/MainProject/Dataset/Scroll up/dd853c82-759c-11ed-b8b7-841b77913bf0.jpg'),\n WindowsPath('C:/Users/Anurag/Desktop/MainProject/Dataset/Scroll up/dd91c034-759c-11ed-b1ac-841b77913bf0.jpg'),\n WindowsPath('C:/Users/Anurag/Desktop/MainProject/Dataset/Scroll up/dd9e311a-759c-11ed-ad3d-841b77913bf0.jpg'),\n WindowsPath('C:/Users/Anurag/Desktop/MainProject/Dataset/Scroll up/dda969a1-759c-11ed-879f-841b77913bf0.jpg'),\n WindowsPath('C:/Users/Anurag/Desktop/MainProject/Dataset/Scroll up/ddb5dad4-759c-11ed-b938-841b77913bf0.jpg'),\n WindowsPath('C:/Users/Anurag/Desktop/MainProject/Dataset/Scroll up/ddc274b2-759c-11ed-a252-841b77913bf0.jpg'),\n WindowsPath('C:/Users/Anurag/Desktop/MainProject/Dataset/Scroll up/ddcd9875-759c-11ed-8397-841b77913bf0.jpg'),\n WindowsPath('C:/Users/Anurag/Desktop/MainProject/Dataset/Scroll up/ddda08dd-759c-11ed-85f7-841b77913bf0.jpg'),\n WindowsPath('C:/Users/Anurag/Desktop/MainProject/Dataset/Scroll up/dde716b9-759c-11ed-8e53-841b77913bf0.jpg'),\n WindowsPath('C:/Users/Anurag/Desktop/MainProject/Dataset/Scroll up/ddf1b431-759c-11ed-8b34-841b77913bf0.jpg'),\n WindowsPath('C:/Users/Anurag/Desktop/MainProject/Dataset/Scroll up/ddfd729a-759c-11ed-9665-841b77913bf0.jpg'),\n WindowsPath('C:/Users/Anurag/Desktop/MainProject/Dataset/Scroll up/de09727f-759c-11ed-a01a-841b77913bf0.jpg'),\n WindowsPath('C:/Users/Anurag/Desktop/MainProject/Dataset/Scroll up/de150c80-759c-11ed-9619-841b77913bf0.jpg'),\n WindowsPath('C:/Users/Anurag/Desktop/MainProject/Dataset/Scroll up/de1f3339-759c-11ed-a3f2-841b77913bf0.jpg'),\n WindowsPath('C:/Users/Anurag/Desktop/MainProject/Dataset/Scroll up/de2b2f29-759c-11ed-9b11-841b77913bf0.jpg'),\n WindowsPath('C:/Users/Anurag/Desktop/MainProject/Dataset/Scroll up/de36ef0f-759c-11ed-b2ce-841b77913bf0.jpg'),\n WindowsPath('C:/Users/Anurag/Desktop/MainProject/Dataset/Scroll up/de43603a-759c-11ed-96f1-841b77913bf0.jpg'),\n WindowsPath('C:/Users/Anurag/Desktop/MainProject/Dataset/Scroll up/de4f3865-759c-11ed-88c6-841b77913bf0.jpg'),\n WindowsPath('C:/Users/Anurag/Desktop/MainProject/Dataset/Scroll up/de5b0d70-759c-11ed-a9af-841b77913bf0.jpg'),\n WindowsPath('C:/Users/Anurag/Desktop/MainProject/Dataset/Scroll up/de676a71-759c-11ed-96b5-841b77913bf0.jpg'),\n WindowsPath('C:/Users/Anurag/Desktop/MainProject/Dataset/Scroll up/de72d5bf-759c-11ed-ba81-841b77913bf0.jpg'),\n WindowsPath('C:/Users/Anurag/Desktop/MainProject/Dataset/Scroll up/de7f1354-759c-11ed-b40c-841b77913bf0.jpg'),\n WindowsPath('C:/Users/Anurag/Desktop/MainProject/Dataset/Scroll up/de8b94e2-759c-11ed-990a-841b77913bf0.jpg'),\n WindowsPath('C:/Users/Anurag/Desktop/MainProject/Dataset/Scroll up/de97422c-759c-11ed-83c0-841b77913bf0.jpg'),\n WindowsPath('C:/Users/Anurag/Desktop/MainProject/Dataset/Scroll up/dea30382-759c-11ed-989e-841b77913bf0.jpg'),\n WindowsPath('C:/Users/Anurag/Desktop/MainProject/Dataset/Scroll up/deae92ed-759c-11ed-98d5-841b77913bf0.jpg'),\n WindowsPath('C:/Users/Anurag/Desktop/MainProject/Dataset/Scroll up/debab770-759c-11ed-99a9-841b77913bf0.jpg'),\n WindowsPath('C:/Users/Anurag/Desktop/MainProject/Dataset/Scroll up/dec6bc24-759c-11ed-9e87-841b77913bf0.jpg'),\n WindowsPath('C:/Users/Anurag/Desktop/MainProject/Dataset/Scroll up/ded39567-759c-11ed-8155-841b77913bf0.jpg'),\n WindowsPath('C:/Users/Anurag/Desktop/MainProject/Dataset/Scroll up/dee1251c-759c-11ed-8395-841b77913bf0.jpg'),\n WindowsPath('C:/Users/Anurag/Desktop/MainProject/Dataset/Scroll up/deecefaa-759c-11ed-a202-841b77913bf0.jpg'),\n WindowsPath('C:/Users/Anurag/Desktop/MainProject/Dataset/Scroll up/def91576-759c-11ed-8d18-841b77913bf0.jpg'),\n WindowsPath('C:/Users/Anurag/Desktop/MainProject/Dataset/Scroll up/df0537bf-759c-11ed-9017-841b77913bf0.jpg'),\n WindowsPath('C:/Users/Anurag/Desktop/MainProject/Dataset/Scroll up/df107881-759c-11ed-88ca-841b77913bf0.jpg'),\n WindowsPath('C:/Users/Anurag/Desktop/MainProject/Dataset/Scroll up/df1d336b-759c-11ed-aeda-841b77913bf0.jpg'),\n WindowsPath('C:/Users/Anurag/Desktop/MainProject/Dataset/Scroll up/df2955da-759c-11ed-b264-841b77913bf0.jpg'),\n WindowsPath('C:/Users/Anurag/Desktop/MainProject/Dataset/Scroll up/df3577f8-759c-11ed-8f3e-841b77913bf0.jpg'),\n WindowsPath('C:/Users/Anurag/Desktop/MainProject/Dataset/Scroll up/df425e86-759c-11ed-b2a2-841b77913bf0.jpg'),\n WindowsPath('C:/Users/Anurag/Desktop/MainProject/Dataset/Zoom In/6cbe73c8-759d-11ed-b776-841b77913bf0.jpg'),\n WindowsPath('C:/Users/Anurag/Desktop/MainProject/Dataset/Zoom In/6cd2c209-759d-11ed-ac1e-841b77913bf0.jpg'),\n WindowsPath('C:/Users/Anurag/Desktop/MainProject/Dataset/Zoom In/6cdf0bcc-759d-11ed-b7ba-841b77913bf0.jpg'),\n WindowsPath('C:/Users/Anurag/Desktop/MainProject/Dataset/Zoom In/6ceab883-759d-11ed-90fe-841b77913bf0.jpg'),\n WindowsPath('C:/Users/Anurag/Desktop/MainProject/Dataset/Zoom In/6cf6d6b1-759d-11ed-88d2-841b77913bf0.jpg'),\n WindowsPath('C:/Users/Anurag/Desktop/MainProject/Dataset/Zoom In/6d02fca5-759d-11ed-bbb6-841b77913bf0.jpg'),\n WindowsPath('C:/Users/Anurag/Desktop/MainProject/Dataset/Zoom In/6d0efa41-759d-11ed-8d4e-841b77913bf0.jpg'),\n WindowsPath('C:/Users/Anurag/Desktop/MainProject/Dataset/Zoom In/6d1d2ec9-759d-11ed-9f28-841b77913bf0.jpg'),\n WindowsPath('C:/Users/Anurag/Desktop/MainProject/Dataset/Zoom In/6d28f7a7-759d-11ed-ba4a-841b77913bf0.jpg'),\n WindowsPath('C:/Users/Anurag/Desktop/MainProject/Dataset/Zoom In/6d356889-759d-11ed-91f5-841b77913bf0.jpg'),\n WindowsPath('C:/Users/Anurag/Desktop/MainProject/Dataset/Zoom In/6d411608-759d-11ed-839a-841b77913bf0.jpg'),\n WindowsPath('C:/Users/Anurag/Desktop/MainProject/Dataset/Zoom In/6d4cd880-759d-11ed-988c-841b77913bf0.jpg'),\n WindowsPath('C:/Users/Anurag/Desktop/MainProject/Dataset/Zoom In/6d58d4af-759d-11ed-ad36-841b77913bf0.jpg'),\n WindowsPath('C:/Users/Anurag/Desktop/MainProject/Dataset/Zoom In/6d65a673-759d-11ed-9c74-841b77913bf0.jpg'),\n WindowsPath('C:/Users/Anurag/Desktop/MainProject/Dataset/Zoom In/6d723de1-759d-11ed-ab57-841b77913bf0.jpg'),\n WindowsPath('C:/Users/Anurag/Desktop/MainProject/Dataset/Zoom In/6d7ddb74-759d-11ed-b5ca-841b77913bf0.jpg'),\n WindowsPath('C:/Users/Anurag/Desktop/MainProject/Dataset/Zoom In/6d8a1f02-759d-11ed-96ae-841b77913bf0.jpg'),\n WindowsPath('C:/Users/Anurag/Desktop/MainProject/Dataset/Zoom In/6d95a5bf-759d-11ed-bf37-841b77913bf0.jpg'),\n WindowsPath('C:/Users/Anurag/Desktop/MainProject/Dataset/Zoom In/6da18c92-759d-11ed-be18-841b77913bf0.jpg'),\n WindowsPath('C:/Users/Anurag/Desktop/MainProject/Dataset/Zoom In/6dad6158-759d-11ed-a7bb-841b77913bf0.jpg'),\n WindowsPath('C:/Users/Anurag/Desktop/MainProject/Dataset/Zoom In/6db9ea3b-759d-11ed-9e78-841b77913bf0.jpg'),\n WindowsPath('C:/Users/Anurag/Desktop/MainProject/Dataset/Zoom In/6dc51d4a-759d-11ed-be67-841b77913bf0.jpg'),\n WindowsPath('C:/Users/Anurag/Desktop/MainProject/Dataset/Zoom In/6dd0fcbf-759d-11ed-80ac-841b77913bf0.jpg'),\n WindowsPath('C:/Users/Anurag/Desktop/MainProject/Dataset/Zoom In/6dde8a6d-759d-11ed-bcb0-841b77913bf0.jpg'),\n WindowsPath('C:/Users/Anurag/Desktop/MainProject/Dataset/Zoom In/6de965c4-759d-11ed-b2fd-841b77913bf0.jpg'),\n WindowsPath('C:/Users/Anurag/Desktop/MainProject/Dataset/Zoom In/6df55097-759d-11ed-8750-841b77913bf0.jpg'),\n WindowsPath('C:/Users/Anurag/Desktop/MainProject/Dataset/Zoom In/6e033697-759d-11ed-97b6-841b77913bf0.jpg'),\n WindowsPath('C:/Users/Anurag/Desktop/MainProject/Dataset/Zoom In/6e0fd1e9-759d-11ed-9e78-841b77913bf0.jpg'),\n WindowsPath('C:/Users/Anurag/Desktop/MainProject/Dataset/Zoom In/6e1c5513-759d-11ed-a146-841b77913bf0.jpg'),\n WindowsPath('C:/Users/Anurag/Desktop/MainProject/Dataset/Zoom In/6e289ea8-759d-11ed-a189-841b77913bf0.jpg'),\n WindowsPath('C:/Users/Anurag/Desktop/MainProject/Dataset/Zoom In/6e363299-759d-11ed-9f86-841b77913bf0.jpg'),\n WindowsPath('C:/Users/Anurag/Desktop/MainProject/Dataset/Zoom In/6e426f8a-759d-11ed-a88e-841b77913bf0.jpg'),\n WindowsPath('C:/Users/Anurag/Desktop/MainProject/Dataset/Zoom In/6e4fc0b0-759d-11ed-904b-841b77913bf0.jpg'),\n WindowsPath('C:/Users/Anurag/Desktop/MainProject/Dataset/Zoom In/6e5be2fc-759d-11ed-a40f-841b77913bf0.jpg'),\n WindowsPath('C:/Users/Anurag/Desktop/MainProject/Dataset/Zoom In/6e66b8d2-759d-11ed-b601-841b77913bf0.jpg'),\n WindowsPath('C:/Users/Anurag/Desktop/MainProject/Dataset/Zoom In/6e72af19-759d-11ed-b948-841b77913bf0.jpg'),\n WindowsPath('C:/Users/Anurag/Desktop/MainProject/Dataset/Zoom In/6e7e94ce-759d-11ed-a128-841b77913bf0.jpg'),\n WindowsPath('C:/Users/Anurag/Desktop/MainProject/Dataset/Zoom In/6e8ac95a-759d-11ed-bd06-841b77913bf0.jpg'),\n WindowsPath('C:/Users/Anurag/Desktop/MainProject/Dataset/Zoom In/6e974c92-759d-11ed-9aec-841b77913bf0.jpg'),\n WindowsPath('C:/Users/Anurag/Desktop/MainProject/Dataset/Zoom In/6ea65700-759d-11ed-aa18-841b77913bf0.jpg'),\n WindowsPath('C:/Users/Anurag/Desktop/MainProject/Dataset/Zoom In/6eb27971-759d-11ed-89d1-841b77913bf0.jpg'),\n WindowsPath('C:/Users/Anurag/Desktop/MainProject/Dataset/Zoom In/6ec05f13-759d-11ed-9a04-841b77913bf0.jpg'),\n WindowsPath('C:/Users/Anurag/Desktop/MainProject/Dataset/Zoom In/6ece3044-759d-11ed-8215-841b77913bf0.jpg'),\n WindowsPath('C:/Users/Anurag/Desktop/MainProject/Dataset/Zoom In/6edd137b-759d-11ed-b628-841b77913bf0.jpg'),\n WindowsPath('C:/Users/Anurag/Desktop/MainProject/Dataset/Zoom In/6eeb0c4b-759d-11ed-874b-841b77913bf0.jpg'),\n WindowsPath('C:/Users/Anurag/Desktop/MainProject/Dataset/Zoom In/6ef7a432-759d-11ed-8f45-841b77913bf0.jpg'),\n WindowsPath('C:/Users/Anurag/Desktop/MainProject/Dataset/Zoom In/6f038b1e-759d-11ed-acc4-841b77913bf0.jpg'),\n WindowsPath('C:/Users/Anurag/Desktop/MainProject/Dataset/Zoom In/6f102287-759d-11ed-bc1b-841b77913bf0.jpg'),\n WindowsPath('C:/Users/Anurag/Desktop/MainProject/Dataset/Zoom In/6f1b0cb8-759d-11ed-9df2-841b77913bf0.jpg'),\n WindowsPath('C:/Users/Anurag/Desktop/MainProject/Dataset/Zoom Out/834c46d9-759d-11ed-9f69-841b77913bf0.jpg'),\n WindowsPath('C:/Users/Anurag/Desktop/MainProject/Dataset/Zoom Out/83607a5c-759d-11ed-aa82-841b77913bf0.jpg'),\n WindowsPath('C:/Users/Anurag/Desktop/MainProject/Dataset/Zoom Out/836b4f3f-759d-11ed-ba43-841b77913bf0.jpg'),\n WindowsPath('C:/Users/Anurag/Desktop/MainProject/Dataset/Zoom Out/8379ac0a-759d-11ed-ae4b-841b77913bf0.jpg'),\n WindowsPath('C:/Users/Anurag/Desktop/MainProject/Dataset/Zoom Out/8387e040-759d-11ed-a99f-841b77913bf0.jpg'),\n WindowsPath('C:/Users/Anurag/Desktop/MainProject/Dataset/Zoom Out/83995d47-759d-11ed-9f7f-841b77913bf0.jpg'),\n WindowsPath('C:/Users/Anurag/Desktop/MainProject/Dataset/Zoom Out/83a6df31-759d-11ed-884c-841b77913bf0.jpg'),\n WindowsPath('C:/Users/Anurag/Desktop/MainProject/Dataset/Zoom Out/83b43969-759d-11ed-a663-841b77913bf0.jpg'),\n WindowsPath('C:/Users/Anurag/Desktop/MainProject/Dataset/Zoom Out/83bf98ad-759d-11ed-bcf4-841b77913bf0.jpg'),\n WindowsPath('C:/Users/Anurag/Desktop/MainProject/Dataset/Zoom Out/83cbab41-759d-11ed-a5d9-841b77913bf0.jpg'),\n WindowsPath('C:/Users/Anurag/Desktop/MainProject/Dataset/Zoom Out/83d82f0f-759d-11ed-8e73-841b77913bf0.jpg'),\n WindowsPath('C:/Users/Anurag/Desktop/MainProject/Dataset/Zoom Out/83e40373-759d-11ed-846d-841b77913bf0.jpg'),\n WindowsPath('C:/Users/Anurag/Desktop/MainProject/Dataset/Zoom Out/83ef411d-759d-11ed-a4d5-841b77913bf0.jpg'),\n WindowsPath('C:/Users/Anurag/Desktop/MainProject/Dataset/Zoom Out/83fd0c20-759d-11ed-8de6-841b77913bf0.jpg'),\n WindowsPath('C:/Users/Anurag/Desktop/MainProject/Dataset/Zoom Out/8407f6a5-759d-11ed-a3d2-841b77913bf0.jpg'),\n WindowsPath('C:/Users/Anurag/Desktop/MainProject/Dataset/Zoom Out/8414c854-759d-11ed-8d07-841b77913bf0.jpg'),\n WindowsPath('C:/Users/Anurag/Desktop/MainProject/Dataset/Zoom Out/841fd577-759d-11ed-9eb2-841b77913bf0.jpg'),\n WindowsPath('C:/Users/Anurag/Desktop/MainProject/Dataset/Zoom Out/842bb928-759d-11ed-b0c6-841b77913bf0.jpg'),\n WindowsPath('C:/Users/Anurag/Desktop/MainProject/Dataset/Zoom Out/84385251-759d-11ed-adab-841b77913bf0.jpg'),\n WindowsPath('C:/Users/Anurag/Desktop/MainProject/Dataset/Zoom Out/844511e8-759d-11ed-b087-841b77913bf0.jpg'),\n WindowsPath('C:/Users/Anurag/Desktop/MainProject/Dataset/Zoom Out/8450f906-759d-11ed-99d4-841b77913bf0.jpg'),\n WindowsPath('C:/Users/Anurag/Desktop/MainProject/Dataset/Zoom Out/845c50d9-759d-11ed-afb2-841b77913bf0.jpg'),\n WindowsPath('C:/Users/Anurag/Desktop/MainProject/Dataset/Zoom Out/8467b497-759d-11ed-adfc-841b77913bf0.jpg'),\n WindowsPath('C:/Users/Anurag/Desktop/MainProject/Dataset/Zoom Out/84759abf-759d-11ed-9dc5-841b77913bf0.jpg'),\n WindowsPath('C:/Users/Anurag/Desktop/MainProject/Dataset/Zoom Out/8482e49e-759d-11ed-b509-841b77913bf0.jpg'),\n WindowsPath('C:/Users/Anurag/Desktop/MainProject/Dataset/Zoom Out/848ef2a6-759d-11ed-998a-841b77913bf0.jpg'),\n WindowsPath('C:/Users/Anurag/Desktop/MainProject/Dataset/Zoom Out/849abb03-759d-11ed-801d-841b77913bf0.jpg'),\n WindowsPath('C:/Users/Anurag/Desktop/MainProject/Dataset/Zoom Out/84a7df12-759d-11ed-9f92-841b77913bf0.jpg'),\n WindowsPath('C:/Users/Anurag/Desktop/MainProject/Dataset/Zoom Out/84b5edf2-759d-11ed-ae7d-841b77913bf0.jpg'),\n WindowsPath('C:/Users/Anurag/Desktop/MainProject/Dataset/Zoom Out/84c2fb46-759d-11ed-b399-841b77913bf0.jpg'),\n WindowsPath('C:/Users/Anurag/Desktop/MainProject/Dataset/Zoom Out/84d1b6ce-759d-11ed-901e-841b77913bf0.jpg'),\n WindowsPath('C:/Users/Anurag/Desktop/MainProject/Dataset/Zoom Out/84ded8f7-759d-11ed-a584-841b77913bf0.jpg'),\n WindowsPath('C:/Users/Anurag/Desktop/MainProject/Dataset/Zoom Out/84ebf92d-759d-11ed-a8a2-841b77913bf0.jpg'),\n WindowsPath('C:/Users/Anurag/Desktop/MainProject/Dataset/Zoom Out/84f8b793-759d-11ed-a5db-841b77913bf0.jpg'),\n WindowsPath('C:/Users/Anurag/Desktop/MainProject/Dataset/Zoom Out/8504b314-759d-11ed-9910-841b77913bf0.jpg'),\n WindowsPath('C:/Users/Anurag/Desktop/MainProject/Dataset/Zoom Out/85109d45-759d-11ed-9ec7-841b77913bf0.jpg'),\n WindowsPath('C:/Users/Anurag/Desktop/MainProject/Dataset/Zoom Out/851c576e-759d-11ed-97a1-841b77913bf0.jpg'),\n WindowsPath('C:/Users/Anurag/Desktop/MainProject/Dataset/Zoom Out/8528152c-759d-11ed-b8c0-841b77913bf0.jpg'),\n WindowsPath('C:/Users/Anurag/Desktop/MainProject/Dataset/Zoom Out/8534c788-759d-11ed-a168-841b77913bf0.jpg'),\n WindowsPath('C:/Users/Anurag/Desktop/MainProject/Dataset/Zoom Out/85415f33-759d-11ed-ad5c-841b77913bf0.jpg'),\n WindowsPath('C:/Users/Anurag/Desktop/MainProject/Dataset/Zoom Out/854d5adb-759d-11ed-a0ab-841b77913bf0.jpg'),\n WindowsPath('C:/Users/Anurag/Desktop/MainProject/Dataset/Zoom Out/8558bb12-759d-11ed-b98e-841b77913bf0.jpg'),\n WindowsPath('C:/Users/Anurag/Desktop/MainProject/Dataset/Zoom Out/85658424-759d-11ed-820e-841b77913bf0.jpg'),\n WindowsPath('C:/Users/Anurag/Desktop/MainProject/Dataset/Zoom Out/8571cd68-759d-11ed-ada9-841b77913bf0.jpg'),\n WindowsPath('C:/Users/Anurag/Desktop/MainProject/Dataset/Zoom Out/857e1853-759d-11ed-8e0a-841b77913bf0.jpg'),\n WindowsPath('C:/Users/Anurag/Desktop/MainProject/Dataset/Zoom Out/8588dc92-759d-11ed-99ed-841b77913bf0.jpg'),\n WindowsPath('C:/Users/Anurag/Desktop/MainProject/Dataset/Zoom Out/85953077-759d-11ed-9777-841b77913bf0.jpg'),\n WindowsPath('C:/Users/Anurag/Desktop/MainProject/Dataset/Zoom Out/85a0f0e9-759d-11ed-88ce-841b77913bf0.jpg'),\n WindowsPath('C:/Users/Anurag/Desktop/MainProject/Dataset/Zoom Out/85acc752-759d-11ed-b63e-841b77913bf0.jpg'),\n WindowsPath('C:/Users/Anurag/Desktop/MainProject/Dataset/Zoom Out/85b938d1-759d-11ed-81fd-841b77913bf0.jpg'),\n WindowsPath('C:/Users/Anurag/Desktop/MainProject/Dataset/Zoom Out/85c58e34-759d-11ed-b1d1-841b77913bf0.jpg'),\n WindowsPath('C:/Users/Anurag/Desktop/MainProject/Dataset/Zoom Out/85d12d52-759d-11ed-9d6d-841b77913bf0.jpg'),\n WindowsPath('C:/Users/Anurag/Desktop/MainProject/Dataset/Zoom Out/85ddd91d-759d-11ed-9f06-841b77913bf0.jpg'),\n WindowsPath('C:/Users/Anurag/Desktop/MainProject/Dataset/Zoom Out/85ea70f3-759d-11ed-9159-841b77913bf0.jpg'),\n WindowsPath('C:/Users/Anurag/Desktop/MainProject/Dataset/Zoom Out/85f5a9ba-759d-11ed-a565-841b77913bf0.jpg'),\n WindowsPath('C:/Users/Anurag/Desktop/MainProject/Dataset/Zoom Out/860120fc-759d-11ed-9a6c-841b77913bf0.jpg'),\n WindowsPath('C:/Users/Anurag/Desktop/MainProject/Dataset/Zoom Out/860da7ac-759d-11ed-a54d-841b77913bf0.jpg'),\n WindowsPath('C:/Users/Anurag/Desktop/MainProject/Dataset/Zoom Out/86192e6c-759d-11ed-a3f5-841b77913bf0.jpg'),\n WindowsPath('C:/Users/Anurag/Desktop/MainProject/Dataset/Zoom Out/8625c11c-759d-11ed-a28d-841b77913bf0.jpg'),\n WindowsPath('C:/Users/Anurag/Desktop/MainProject/Dataset/Zoom Out/8632a817-759d-11ed-be87-841b77913bf0.jpg'),\n WindowsPath('C:/Users/Anurag/Desktop/MainProject/Dataset/Zoom Out/863e9f2b-759d-11ed-96ad-841b77913bf0.jpg'),\n WindowsPath('C:/Users/Anurag/Desktop/MainProject/Dataset/Zoom Out/86499bf7-759d-11ed-8b97-841b77913bf0.jpg'),\n WindowsPath('C:/Users/Anurag/Desktop/MainProject/Dataset/Zoom Out/8656340f-759d-11ed-86da-841b77913bf0.jpg'),\n WindowsPath('C:/Users/Anurag/Desktop/MainProject/Dataset/Zoom Out/866187d6-759d-11ed-906a-841b77913bf0.jpg'),\n WindowsPath('C:/Users/Anurag/Desktop/MainProject/Dataset/Zoom Out/866dd195-759d-11ed-b92d-841b77913bf0.jpg'),\n WindowsPath('C:/Users/Anurag/Desktop/MainProject/Dataset/Zoom Out/86796ac4-759d-11ed-abce-841b77913bf0.jpg')]"
     },
     "execution_count": 9,
     "metadata": {},
     "output_type": "execute_result"
    }
   ],
   "source": [
    "# Creating File Dataframe\n",
    "# here we are creating a dataframe where one label is the file/image path and other label represents what it is\n",
    "filepaths = list(image_dir.glob(r'**/*.jpg'))\n",
    "filepaths"
   ],
   "metadata": {
    "collapsed": false,
    "pycharm": {
     "name": "#%%\n"
    }
   }
  },
  {
   "cell_type": "code",
   "execution_count": 10,
   "outputs": [
    {
     "data": {
      "text/plain": "'Zoom Out'"
     },
     "execution_count": 10,
     "metadata": {},
     "output_type": "execute_result"
    }
   ],
   "source": [
    "# we use this function to get hold of the other label\n",
    "os.path.split(os.path.split('C:/Users/Anurag/Desktop/MainProject/Dataset/Zoom Out/86499bf7-759d-11ed-8b97-841b77913bf0.jpg')[0])[1]"
   ],
   "metadata": {
    "collapsed": false,
    "pycharm": {
     "name": "#%%\n"
    }
   }
  },
  {
   "cell_type": "code",
   "execution_count": 11,
   "outputs": [],
   "source": [
    "import cv2"
   ],
   "metadata": {
    "collapsed": false,
    "pycharm": {
     "name": "#%%\n"
    }
   }
  },
  {
   "cell_type": "code",
   "execution_count": 12,
   "outputs": [],
   "source": [
    "labels = list(map(lambda x: os.path.split(os.path.split(x)[0])[1], filepaths))"
   ],
   "metadata": {
    "collapsed": false,
    "pycharm": {
     "name": "#%%\n"
    }
   }
  },
  {
   "cell_type": "code",
   "execution_count": 13,
   "outputs": [
    {
     "data": {
      "text/plain": "                                              filepath                Label\n0    C:\\Users\\Anurag\\Desktop\\MainProject\\Dataset\\Bo...  Both Hand Raised Up\n1    C:\\Users\\Anurag\\Desktop\\MainProject\\Dataset\\Bo...  Both Hand Raised Up\n2    C:\\Users\\Anurag\\Desktop\\MainProject\\Dataset\\Bo...  Both Hand Raised Up\n3    C:\\Users\\Anurag\\Desktop\\MainProject\\Dataset\\Bo...  Both Hand Raised Up\n4    C:\\Users\\Anurag\\Desktop\\MainProject\\Dataset\\Bo...  Both Hand Raised Up\n..                                                 ...                  ...\n406  C:\\Users\\Anurag\\Desktop\\MainProject\\Dataset\\Zo...             Zoom Out\n407  C:\\Users\\Anurag\\Desktop\\MainProject\\Dataset\\Zo...             Zoom Out\n408  C:\\Users\\Anurag\\Desktop\\MainProject\\Dataset\\Zo...             Zoom Out\n409  C:\\Users\\Anurag\\Desktop\\MainProject\\Dataset\\Zo...             Zoom Out\n410  C:\\Users\\Anurag\\Desktop\\MainProject\\Dataset\\Zo...             Zoom Out\n\n[411 rows x 2 columns]",
      "text/html": "<div>\n<style scoped>\n    .dataframe tbody tr th:only-of-type {\n        vertical-align: middle;\n    }\n\n    .dataframe tbody tr th {\n        vertical-align: top;\n    }\n\n    .dataframe thead th {\n        text-align: right;\n    }\n</style>\n<table border=\"1\" class=\"dataframe\">\n  <thead>\n    <tr style=\"text-align: right;\">\n      <th></th>\n      <th>filepath</th>\n      <th>Label</th>\n    </tr>\n  </thead>\n  <tbody>\n    <tr>\n      <th>0</th>\n      <td>C:\\Users\\Anurag\\Desktop\\MainProject\\Dataset\\Bo...</td>\n      <td>Both Hand Raised Up</td>\n    </tr>\n    <tr>\n      <th>1</th>\n      <td>C:\\Users\\Anurag\\Desktop\\MainProject\\Dataset\\Bo...</td>\n      <td>Both Hand Raised Up</td>\n    </tr>\n    <tr>\n      <th>2</th>\n      <td>C:\\Users\\Anurag\\Desktop\\MainProject\\Dataset\\Bo...</td>\n      <td>Both Hand Raised Up</td>\n    </tr>\n    <tr>\n      <th>3</th>\n      <td>C:\\Users\\Anurag\\Desktop\\MainProject\\Dataset\\Bo...</td>\n      <td>Both Hand Raised Up</td>\n    </tr>\n    <tr>\n      <th>4</th>\n      <td>C:\\Users\\Anurag\\Desktop\\MainProject\\Dataset\\Bo...</td>\n      <td>Both Hand Raised Up</td>\n    </tr>\n    <tr>\n      <th>...</th>\n      <td>...</td>\n      <td>...</td>\n    </tr>\n    <tr>\n      <th>406</th>\n      <td>C:\\Users\\Anurag\\Desktop\\MainProject\\Dataset\\Zo...</td>\n      <td>Zoom Out</td>\n    </tr>\n    <tr>\n      <th>407</th>\n      <td>C:\\Users\\Anurag\\Desktop\\MainProject\\Dataset\\Zo...</td>\n      <td>Zoom Out</td>\n    </tr>\n    <tr>\n      <th>408</th>\n      <td>C:\\Users\\Anurag\\Desktop\\MainProject\\Dataset\\Zo...</td>\n      <td>Zoom Out</td>\n    </tr>\n    <tr>\n      <th>409</th>\n      <td>C:\\Users\\Anurag\\Desktop\\MainProject\\Dataset\\Zo...</td>\n      <td>Zoom Out</td>\n    </tr>\n    <tr>\n      <th>410</th>\n      <td>C:\\Users\\Anurag\\Desktop\\MainProject\\Dataset\\Zo...</td>\n      <td>Zoom Out</td>\n    </tr>\n  </tbody>\n</table>\n<p>411 rows × 2 columns</p>\n</div>"
     },
     "execution_count": 13,
     "metadata": {},
     "output_type": "execute_result"
    }
   ],
   "source": [
    "filepaths = pd.Series(filepaths, name='filepath').astype(str)\n",
    "labels = pd.Series(labels, name='Label')\n",
    "\n",
    "image_df = pd.concat([filepaths, labels], axis=1)\n",
    "image_df"
   ],
   "metadata": {
    "collapsed": false,
    "pycharm": {
     "name": "#%%\n"
    }
   }
  },
  {
   "cell_type": "code",
   "execution_count": 14,
   "outputs": [],
   "source": [
    "train_df, test_df = train_test_split(image_df, train_size=0.7, shuffle= True, random_state=1)"
   ],
   "metadata": {
    "collapsed": false,
    "pycharm": {
     "name": "#%%\n"
    }
   }
  },
  {
   "cell_type": "code",
   "execution_count": 15,
   "outputs": [
    {
     "data": {
      "text/plain": "                                              filepath                Label\n69   C:\\Users\\Anurag\\Desktop\\MainProject\\Dataset\\Bo...  Both Hand Raised Up\n244  C:\\Users\\Anurag\\Desktop\\MainProject\\Dataset\\Sc...            Scroll up\n162  C:\\Users\\Anurag\\Desktop\\MainProject\\Dataset\\Sc...          Scroll Left\n91   C:\\Users\\Anurag\\Desktop\\MainProject\\Dataset\\Sc...          Scroll Down\n164  C:\\Users\\Anurag\\Desktop\\MainProject\\Dataset\\Sc...          Scroll Left\n..                                                 ...                  ...\n255  C:\\Users\\Anurag\\Desktop\\MainProject\\Dataset\\Sc...            Scroll up\n72   C:\\Users\\Anurag\\Desktop\\MainProject\\Dataset\\Sc...          Scroll Down\n396  C:\\Users\\Anurag\\Desktop\\MainProject\\Dataset\\Zo...             Zoom Out\n235  C:\\Users\\Anurag\\Desktop\\MainProject\\Dataset\\Sc...            Scroll up\n37   C:\\Users\\Anurag\\Desktop\\MainProject\\Dataset\\Bo...  Both Hand Raised Up\n\n[287 rows x 2 columns]",
      "text/html": "<div>\n<style scoped>\n    .dataframe tbody tr th:only-of-type {\n        vertical-align: middle;\n    }\n\n    .dataframe tbody tr th {\n        vertical-align: top;\n    }\n\n    .dataframe thead th {\n        text-align: right;\n    }\n</style>\n<table border=\"1\" class=\"dataframe\">\n  <thead>\n    <tr style=\"text-align: right;\">\n      <th></th>\n      <th>filepath</th>\n      <th>Label</th>\n    </tr>\n  </thead>\n  <tbody>\n    <tr>\n      <th>69</th>\n      <td>C:\\Users\\Anurag\\Desktop\\MainProject\\Dataset\\Bo...</td>\n      <td>Both Hand Raised Up</td>\n    </tr>\n    <tr>\n      <th>244</th>\n      <td>C:\\Users\\Anurag\\Desktop\\MainProject\\Dataset\\Sc...</td>\n      <td>Scroll up</td>\n    </tr>\n    <tr>\n      <th>162</th>\n      <td>C:\\Users\\Anurag\\Desktop\\MainProject\\Dataset\\Sc...</td>\n      <td>Scroll Left</td>\n    </tr>\n    <tr>\n      <th>91</th>\n      <td>C:\\Users\\Anurag\\Desktop\\MainProject\\Dataset\\Sc...</td>\n      <td>Scroll Down</td>\n    </tr>\n    <tr>\n      <th>164</th>\n      <td>C:\\Users\\Anurag\\Desktop\\MainProject\\Dataset\\Sc...</td>\n      <td>Scroll Left</td>\n    </tr>\n    <tr>\n      <th>...</th>\n      <td>...</td>\n      <td>...</td>\n    </tr>\n    <tr>\n      <th>255</th>\n      <td>C:\\Users\\Anurag\\Desktop\\MainProject\\Dataset\\Sc...</td>\n      <td>Scroll up</td>\n    </tr>\n    <tr>\n      <th>72</th>\n      <td>C:\\Users\\Anurag\\Desktop\\MainProject\\Dataset\\Sc...</td>\n      <td>Scroll Down</td>\n    </tr>\n    <tr>\n      <th>396</th>\n      <td>C:\\Users\\Anurag\\Desktop\\MainProject\\Dataset\\Zo...</td>\n      <td>Zoom Out</td>\n    </tr>\n    <tr>\n      <th>235</th>\n      <td>C:\\Users\\Anurag\\Desktop\\MainProject\\Dataset\\Sc...</td>\n      <td>Scroll up</td>\n    </tr>\n    <tr>\n      <th>37</th>\n      <td>C:\\Users\\Anurag\\Desktop\\MainProject\\Dataset\\Bo...</td>\n      <td>Both Hand Raised Up</td>\n    </tr>\n  </tbody>\n</table>\n<p>287 rows × 2 columns</p>\n</div>"
     },
     "execution_count": 15,
     "metadata": {},
     "output_type": "execute_result"
    }
   ],
   "source": [
    "train_df"
   ],
   "metadata": {
    "collapsed": false,
    "pycharm": {
     "name": "#%%\n"
    }
   }
  },
  {
   "cell_type": "code",
   "execution_count": 16,
   "outputs": [],
   "source": [
    "train_generator = tf.keras.preprocessing.image.ImageDataGenerator(\n",
    "    rescale=1./255,\n",
    "    validation_split=0.2\n",
    ")\n",
    "\n",
    "test_generator = tf.keras.preprocessing.image.ImageDataGenerator(\n",
    "    rescale=1./255\n",
    ")"
   ],
   "metadata": {
    "collapsed": false,
    "pycharm": {
     "name": "#%%\n"
    }
   }
  },
  {
   "cell_type": "code",
   "execution_count": 17,
   "outputs": [
    {
     "name": "stdout",
     "output_type": "stream",
     "text": [
      "Found 230 validated image filenames belonging to 7 classes.\n",
      "Found 57 validated image filenames belonging to 7 classes.\n",
      "Found 124 validated image filenames belonging to 7 classes.\n"
     ]
    }
   ],
   "source": [
    "train_images = train_generator.flow_from_dataframe(\n",
    "    dataframe=train_df,\n",
    "    x_col='filepath',\n",
    "    y_col='Label',\n",
    "    target_size=(28, 28),\n",
    "    color_mode='grayscale',\n",
    "    class_mode='categorical',\n",
    "    batch_size=32,\n",
    "    shuffle=True,\n",
    "    seed=42,\n",
    "    subset='training'\n",
    ")\n",
    "\n",
    "val_images = train_generator.flow_from_dataframe(\n",
    "    dataframe=train_df,\n",
    "    x_col='filepath',\n",
    "    y_col='Label',\n",
    "    target_size=(28, 28),\n",
    "    color_mode='grayscale',\n",
    "    class_mode='categorical',\n",
    "    batch_size=32,\n",
    "    shuffle=True,\n",
    "    seed=42,\n",
    "    subset='validation'\n",
    ")\n",
    "\n",
    "test_images = test_generator.flow_from_dataframe(\n",
    "    dataframe=test_df,\n",
    "    x_col='filepath',\n",
    "    y_col='Label',\n",
    "    target_size=(28, 28),\n",
    "    color_mode='grayscale',\n",
    "    class_mode='categorical',\n",
    "    batch_size=32,\n",
    "    shuffle=False\n",
    ")"
   ],
   "metadata": {
    "collapsed": false,
    "pycharm": {
     "name": "#%%\n"
    }
   }
  },
  {
   "cell_type": "code",
   "execution_count": null,
   "outputs": [
    {
     "name": "stdout",
     "output_type": "stream",
     "text": [
      "Epoch 1/100\n",
      "8/8 [==============================] - 3s 199ms/step - loss: 1.9506 - accuracy: 0.1348 - val_loss: 1.9529 - val_accuracy: 0.0526\n",
      "Epoch 2/100\n",
      "8/8 [==============================] - 1s 136ms/step - loss: 1.9446 - accuracy: 0.1304 - val_loss: 1.9395 - val_accuracy: 0.1754\n",
      "Epoch 3/100\n",
      "8/8 [==============================] - 1s 131ms/step - loss: 1.9403 - accuracy: 0.1522 - val_loss: 1.9350 - val_accuracy: 0.1754\n",
      "Epoch 4/100\n",
      "8/8 [==============================] - 1s 126ms/step - loss: 1.9372 - accuracy: 0.1522 - val_loss: 1.9333 - val_accuracy: 0.1754\n",
      "Epoch 5/100\n",
      "8/8 [==============================] - 1s 120ms/step - loss: 1.9352 - accuracy: 0.1565 - val_loss: 1.9314 - val_accuracy: 0.1930\n",
      "Epoch 6/100\n",
      "8/8 [==============================] - 1s 123ms/step - loss: 1.9326 - accuracy: 0.1870 - val_loss: 1.9339 - val_accuracy: 0.1930\n",
      "Epoch 7/100\n",
      "8/8 [==============================] - 1s 138ms/step - loss: 1.9301 - accuracy: 0.1870 - val_loss: 1.9353 - val_accuracy: 0.1930\n",
      "Epoch 8/100\n",
      "8/8 [==============================] - 1s 121ms/step - loss: 1.9280 - accuracy: 0.1870 - val_loss: 1.9359 - val_accuracy: 0.1930\n",
      "Epoch 9/100\n",
      "8/8 [==============================] - 1s 128ms/step - loss: 1.9255 - accuracy: 0.1870 - val_loss: 1.9288 - val_accuracy: 0.1930\n",
      "Epoch 10/100\n",
      "8/8 [==============================] - 1s 143ms/step - loss: 1.9220 - accuracy: 0.1870 - val_loss: 1.9263 - val_accuracy: 0.1930\n",
      "Epoch 11/100\n",
      "8/8 [==============================] - 1s 138ms/step - loss: 1.9177 - accuracy: 0.1870 - val_loss: 1.9178 - val_accuracy: 0.1930\n",
      "Epoch 12/100\n",
      "8/8 [==============================] - 1s 118ms/step - loss: 1.9142 - accuracy: 0.1870 - val_loss: 1.9135 - val_accuracy: 0.1930\n",
      "Epoch 13/100\n",
      "1/8 [==>...........................] - ETA: 0s - loss: 1.9164 - accuracy: 0.1250"
     ]
    }
   ],
   "source": [
    "inputs = tf.keras.Input(shape=(28, 28, 1))\n",
    "x = tf.keras.layers.Conv2D(filters=6, kernel_size=(3, 3), activation='relu')(inputs)\n",
    "x = tf.keras.layers.MaxPooling2D()(x)\n",
    "x = tf.keras.layers.Conv2D(filters=16, kernel_size=(3, 3), activation='relu')(x)\n",
    "x = tf.keras.layers.MaxPooling2D()(x)\n",
    "x = tf.keras.layers.GlobalAveragePooling2D()(x)\n",
    "x = tf.keras.layers.Dense(64, activation='relu')(x)\n",
    "x = tf.keras.layers.Dense(64, activation='relu')(x)\n",
    "outputs = tf.keras.layers.Dense(7, activation='softmax')(x)\n",
    "\n",
    "model = tf.keras.Model(inputs=inputs, outputs=outputs)\n",
    "\n",
    "model.compile(\n",
    "    optimizer='adam',\n",
    "    loss='categorical_crossentropy',\n",
    "    metrics=['accuracy']\n",
    ")\n",
    "\n",
    "history = model.fit(\n",
    "    train_images,\n",
    "    validation_data=val_images,\n",
    "    epochs=100,\n",
    "    callbacks=[\n",
    "        tf.keras.callbacks.ModelCheckpoint('./model.h5', save_best_only=True, save_weights_only=True)\n",
    "    ]\n",
    ")"
   ],
   "metadata": {
    "collapsed": false,
    "pycharm": {
     "name": "#%%\n",
     "is_executing": true
    }
   }
  },
  {
   "cell_type": "code",
   "execution_count": null,
   "outputs": [],
   "source": [
    "model.load_weights('./model.h5')"
   ],
   "metadata": {
    "collapsed": false,
    "pycharm": {
     "name": "#%%\n",
     "is_executing": true
    }
   }
  },
  {
   "cell_type": "code",
   "execution_count": null,
   "outputs": [],
   "source": [
    "results = model.evaluate(test_images, verbose=0)\n",
    "\n",
    "print(\"    Loss: {:.4f}\".format(results[0]))\n",
    "print(\"Accuracy: {:.2f}%\".format(results[1] * 100))"
   ],
   "metadata": {
    "collapsed": false,
    "pycharm": {
     "name": "#%%\n",
     "is_executing": true
    }
   }
  },
  {
   "cell_type": "code",
   "execution_count": null,
   "outputs": [],
   "source": [
    "import matplotlib.pyplot as plt\n",
    "\n",
    "new_image = plt.imread('WIN_20221209_19_17_56_Pro.jpg')\n",
    "img =plt.imshow(new_image)"
   ],
   "metadata": {
    "collapsed": false,
    "pycharm": {
     "name": "#%%\n",
     "is_executing": true
    }
   }
  },
  {
   "cell_type": "code",
   "execution_count": null,
   "outputs": [],
   "source": [
    "# resize the iamge to 32x32 pixels\n",
    "from skimage.transform import resize\n",
    "\n",
    "resized_image = resize(new_image,(28,28,1))\n",
    "img = plt.imshow(resized_image)"
   ],
   "metadata": {
    "collapsed": false,
    "pycharm": {
     "name": "#%%\n",
     "is_executing": true
    }
   }
  },
  {
   "cell_type": "code",
   "execution_count": null,
   "outputs": [],
   "source": [
    "# Get the models predictions\n",
    "predictions = model.predict(np.array([resized_image]))\n",
    "\n",
    "# Show the predictions\n",
    "predictions"
   ],
   "metadata": {
    "collapsed": false,
    "pycharm": {
     "name": "#%%\n",
     "is_executing": true
    }
   }
  },
  {
   "cell_type": "code",
   "execution_count": null,
   "outputs": [],
   "source": [
    "# sorting the predictions from least to greatest\n",
    "list_index = [0,1,2,3,4,5,6]\n",
    "x = predictions\n",
    "\n",
    "for i in range(6):\n",
    "  for j in range(6):\n",
    "    if x[0][list_index[i]] > x[0][list_index[j]]:\n",
    "      temp =list_index[i]\n",
    "      list_index[i] = list_index[j]\n",
    "      list_index[j] = temp\n",
    "\n",
    "# Show the sorted labels\n",
    "print(list_index)\n"
   ],
   "metadata": {
    "collapsed": false,
    "pycharm": {
     "name": "#%%\n",
     "is_executing": true
    }
   }
  },
  {
   "cell_type": "code",
   "execution_count": null,
   "outputs": [],
   "source": [
    "classification = ['Both Hands raised up', 'Scroll Down', 'Scroll Left', 'Scroll Right', 'Scroll Up', 'Zoom In', 'Zoom out']"
   ],
   "metadata": {
    "collapsed": false,
    "pycharm": {
     "name": "#%%\n",
     "is_executing": true
    }
   }
  },
  {
   "cell_type": "code",
   "execution_count": null,
   "outputs": [],
   "source": [
    "# print the first 5 predicitions\n",
    "\n",
    "for i in range(5):\n",
    "  print(classification[list_index[i]], ':', predictions[0][list_index[i]]*100, '%')"
   ],
   "metadata": {
    "collapsed": false,
    "pycharm": {
     "name": "#%%\n",
     "is_executing": true
    }
   }
  },
  {
   "cell_type": "code",
   "execution_count": null,
   "outputs": [],
   "source": [],
   "metadata": {
    "collapsed": false,
    "pycharm": {
     "name": "#%%\n",
     "is_executing": true
    }
   }
  }
 ],
 "metadata": {
  "kernelspec": {
   "display_name": "Python 3",
   "language": "python",
   "name": "python3"
  },
  "language_info": {
   "codemirror_mode": {
    "name": "ipython",
    "version": 2
   },
   "file_extension": ".py",
   "mimetype": "text/x-python",
   "name": "python",
   "nbconvert_exporter": "python",
   "pygments_lexer": "ipython2",
   "version": "2.7.6"
  }
 },
 "nbformat": 4,
 "nbformat_minor": 0
}